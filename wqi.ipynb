{
 "cells": [
  {
   "cell_type": "markdown",
   "id": "990cc906-8c06-4ca5-9a7d-03bd2b84bd27",
   "metadata": {},
   "source": [
    "## **Workflow to compute Normalised Difference Trophic Index (NDTrI) with OpenEO datacube**\n",
    "\n",
    "#### ***Install and import libraries***"
   ]
  },
  {
   "cell_type": "code",
   "execution_count": 1,
   "id": "dbe9248e-5bc5-4b86-a225-5c62eb02eda4",
   "metadata": {
    "scrolled": true
   },
   "outputs": [],
   "source": [
    "# To install libraries:\n",
    "\n",
    "# Windows-Miniconda (takes huge amount of time for 'resolving environment')\n",
    "# conda create -n myenv python (you need to specify python directly)\n",
    "# conda install -c conda-forge rioxarray openeo geopandas leafmap netCDF4 folium matplotlib mapclassify rasterio openeo leafmap localtileserver\n",
    "# openeo and leafmap are available through conda-forge channel only\n",
    "# 5. conda install conda-forge::localtileserver\n",
    "# 2. conda install -c conda-forge gdal\n",
    "# 3. conda install -c conda-forge rasterio (because rasterio built on gdal): https://stackoverflow.com/questions/70208030/fixing-dll-load-failed-the-specified-module-could-not-be-found-error-in-pyth\n",
    "\n",
    "# Ubuntu: !pip install rioxarray openeo geopandas leafmap netCDF4 'folium' 'matplotlib' 'mapclassify'\n",
    "# pip install rioxarray openeo geopandas leafmap netCDF4 folium matplotlib mapclassify\n",
    "# pip install localtileserver if you face issues\n",
    "\n",
    "# conda install rioxarray geopandas netCDF4 folium matplotlib mapclassify rasterio\n",
    "# conda install -c conda-forge leafmap openeo"
   ]
  },
  {
   "cell_type": "code",
   "execution_count": 2,
   "id": "1abf270c-d73e-4109-854c-3cf36a1b36d7",
   "metadata": {
    "tags": []
   },
   "outputs": [],
   "source": [
    "# platform libraries\n",
    "import openeo\n",
    "\n",
    "# utility libraries\n",
    "from datetime import date\n",
    "import numpy as np\n",
    "import xarray as xr\n",
    "import rioxarray\n",
    "import json\n",
    "import pandas as pd\n",
    "import matplotlib.pyplot as plt\n",
    "import geopandas as gpd\n",
    "import leafmap.foliumap as leafmap\n",
    "\n",
    "import os"
   ]
  },
  {
   "cell_type": "markdown",
   "id": "6206feaf",
   "metadata": {},
   "source": [
    "#### ***Define the configuration:***\n",
    "\n",
    "For this workflow, only one input dataset is required, representing the boundaries of water body (geopackage format recommended).\n",
    "Below the following configuration is defined:\n",
    "- paths and names of files (input, output, temporary)\n",
    "- datacube parameters (such as cloud filtering, while others are given in the next cells)\n",
    "- processing parameters (batch jobs and width of buffer to exclude shore areas)\n",
    "- visualisation"
   ]
  },
  {
   "cell_type": "code",
   "execution_count": 20,
   "id": "33bad03b",
   "metadata": {},
   "outputs": [
    {
     "name": "stdout",
     "output_type": "stream",
     "text": [
      "full_nc_path: data/temp/full.nc\n",
      "full_nc_remap_path: data/temp/full_remap.nc\n",
      "full_tif_path: data/temp/full.tif\n",
      "cloud_nc_path: data/temp/cloud.nc\n",
      "cloud_tif_path: data/temp/cloud.tif\n",
      "water_tif_path: data/temp/water.tif\n",
      "water_nc_path: data/temp/water.nc\n",
      "masked_cloud_nc_path: data/temp/masked.nc\n",
      "masked_cloud_tif_path: data/temp/masked.tiff\n",
      "masked_water_nc_path: data/temp/masked_water.nc\n",
      "masked_water_tif_path: data/temp/masked_water.tif\n",
      "test_nc_path: data/temp/test.nc\n",
      "test_tif_path: data/temp/test.tif\n",
      "ndtri_tif_path: data/temp/ndtri_result.tif\n",
      "masked_ndtri_tif_path: data/temp/ndtri_masked.tif\n",
      "timeseries_path: data/temp/timeseries.json\n",
      "full_tif_reproj_path: data/temp/full_reproj.tif\n",
      "masked_cloud_tif_reproj_path: data/temp/masked_reproj.tif\n",
      "masked_water_tif_reproj_path: data/temp/masked_water_reproj.tif\n",
      "test_tif_reproj_path: data/temp/test_reproj.tif\n",
      "[local_process] Total execution time (cumulative): 165.26 seconds\n"
     ]
    }
   ],
   "source": [
    "# PATHS and NAMES\n",
    "input_dir = 'data/input'\n",
    "temp_dir = 'data/temp'\n",
    "output_dir = 'data/output'\n",
    "\n",
    "vector = gpd.read_file(f\"{input_dir}/osm_water.gpkg\")\n",
    "vector\n",
    "feature_name_col = \"name\" # name of column describing the feature name in input vector dataset\n",
    "feature_name = \"Groß Glienicker See\" # feature name (lake)\n",
    "\n",
    "# define raster filenames (temp and outpur)\n",
    "filenames = {\n",
    "    'full_nc': 'full.nc',\n",
    "    'full_nc_remap': 'full_remap.nc',\n",
    "    'full_tif': 'full.tif',\n",
    "    'cloud_nc': 'cloud.nc',\n",
    "    'cloud_tif': 'cloud.tif',\n",
    "    'water_tif': 'water.tif',\n",
    "    'water_nc': 'water.nc',\n",
    "    'masked_cloud_nc': 'masked.nc',  # to mask  clouds (SCL 7-11)\n",
    "    'masked_cloud_tif': 'masked.tiff',\n",
    "    'masked_water_nc': 'masked_water.nc',  # to mask out non-water (SCL != 6)\n",
    "    'masked_water_tif': 'masked_water.tif',\n",
    "    'test_nc': 'test.nc',  # NDTrI\n",
    "    'test_tif': 'test.tif', # NDTrI\n",
    "    'ndtri_tif': 'ndtri_result.tif',\n",
    "    'masked_ndtri_tif': 'ndtri_masked.tif',\n",
    "    'timeseries': 'timeseries.json',\n",
    "    'full_tif_reproj': 'full_reproj.tif',\n",
    "    'masked_cloud_tif_reproj': 'masked_reproj.tif',\n",
    "    'masked_water_tif_reproj': 'masked_water_reproj.tif',\n",
    "    'test_tif_reproj': 'test_reproj.tif'\n",
    "} # TODO - divide temporary and output\n",
    "\n",
    "file_paths = {key + '_path': os.path.join(temp_dir, filename) for key, filename in filenames.items()} # generate paths\n",
    "globals().update(file_paths) # unpack variables\n",
    "for key, value in file_paths.items():\n",
    "    print(f\"{key}: {value}\")\n",
    "\n",
    "# DATACUBE PARAMETERS\n",
    "overall_cloud = False # if True, filter by the cloud percentage in the properties of datacube (for the whole datacube)\n",
    "cloud_percentage = 10 # maximum allowed share of cloud pixels\n",
    "\n",
    "# PROCESSING PARAMETERS\n",
    "shore_negative_buffer = 2 # 'False' or Integer to calculate negative buffer from the lake borderline\n",
    "batch = False # if False, download datacube directly from OpenEO. Otherwise, submit a batch job to be completed on the backend.\n",
    "\n",
    "# VISUALISATION\n",
    "leaflet_offset = 0.001\n",
    "zoom = 14\n",
    "\n",
    "os.environ['LOCALTILESERVER_CLIENT_PREFIX'] = \"/proxy/9999\" # to enable localtileserver to visualise raster layers on Leafmap\n",
    "# os.environ['LOCALTILESERVER_CLIENT_PREFIX'] = f\"{os.environ['JUPYTERHUB_SERVICE_PREFIX']}/proxy/9999\""
   ]
  },
  {
   "cell_type": "markdown",
   "id": "f9d64c64-39db-4869-917c-ed24bef18204",
   "metadata": {
    "tags": []
   },
   "source": [
    "## **1. Connect to a cloud platform**\n",
    "Let's connect to the Copernicus Dataspace Ecosystem. Being connected allows for data discovery.\n",
    "\n",
    "**Note:** Endpoints may vary significantly (depending on data collections), and connection configuration should be updated for each of them."
   ]
  },
  {
   "cell_type": "code",
   "execution_count": 4,
   "id": "86afd551-857e-4129-a2ee-39a933255f34",
   "metadata": {
    "tags": []
   },
   "outputs": [],
   "source": [
    "conn = openeo.connect('https://openeo.dataspace.copernicus.eu/')\n",
    "# TODO - implement retries with delay to avoid issue described below "
   ]
  },
  {
   "cell_type": "markdown",
   "id": "0ed52c6b-9279-4563-8b1d-b51b8bdf8d63",
   "metadata": {},
   "source": [
    "Let's authethicate through the provided URL. Being logged in allows to use the full range of functionality including processing!\n",
    "\n",
    "**Note:** sometimes, the line above gives you error 403, but in this case you should run it again. It happens mostly when you restart Jupyter Notebook or your machine and running non-cached lines."
   ]
  },
  {
   "cell_type": "code",
   "execution_count": 5,
   "id": "bc9dbe7a-ff09-439c-9aef-4004fed80820",
   "metadata": {
    "tags": []
   },
   "outputs": [
    {
     "name": "stdout",
     "output_type": "stream",
     "text": [
      "Authenticated using refresh token.\n"
     ]
    },
    {
     "data": {
      "text/plain": [
       "<Connection to 'https://openeo.dataspace.copernicus.eu/openeo/1.2/' with OidcBearerAuth>"
      ]
     },
     "execution_count": 5,
     "metadata": {},
     "output_type": "execute_result"
    }
   ],
   "source": [
    "conn.authenticate_oidc()"
   ]
  },
  {
   "cell_type": "markdown",
   "id": "d8bfd388-c854-49f1-88b7-4879d5f5c2e1",
   "metadata": {},
   "source": [
    "Check if the login worked:"
   ]
  },
  {
   "cell_type": "code",
   "execution_count": 6,
   "id": "49e8aa86-c476-413c-a186-6f8df29b7429",
   "metadata": {
    "tags": []
   },
   "outputs": [
    {
     "data": {
      "text/plain": [
       "{'info': {'oidc_userinfo': {'email': 'gojd31iris@gmail.com',\n",
       "   'email_verified': True,\n",
       "   'family_name': 'K',\n",
       "   'given_name': 'Vitalii',\n",
       "   'name': 'Vitalii K',\n",
       "   'preferred_username': 'gojd31iris@gmail.com',\n",
       "   'sub': '030a29d0-a7c8-4057-bff5-beec0daba759'}},\n",
       " 'name': 'Vitalii K',\n",
       " 'user_id': '030a29d0-a7c8-4057-bff5-beec0daba759'}"
      ]
     },
     "execution_count": 6,
     "metadata": {},
     "output_type": "execute_result"
    }
   ],
   "source": [
    "conn.describe_account()"
   ]
  },
  {
   "cell_type": "markdown",
   "id": "25730cbc",
   "metadata": {},
   "source": [
    "Common **issue** is being disconnected without response, presumably because of hitting limit rate/expired timeout. For the details, see [here](log/issue_token_exp.txt).\n",
    "No reliable debugging solution was found, only wait for an uncertain amount of time (hours)."
   ]
  },
  {
   "cell_type": "markdown",
   "id": "1e95d456-a831-4cca-ab1f-5a2ec8805291",
   "metadata": {},
   "source": [
    "##### ***Area of Interest***"
   ]
  },
  {
   "cell_type": "markdown",
   "id": "3a324185-d64a-4e69-9601-8f63af0805ac",
   "metadata": {},
   "source": [
    "Our region of interest can be any inland water body, but in this Notebook we will explore urban lakes in Berlin.\n",
    "\n",
    "Sample input dataset currently derived from Open Street Map (through Overpass Turbo API, see [the query](overpass_query.txt) for details) and represents polygons of lakes."
   ]
  },
  {
   "cell_type": "markdown",
   "id": "5b374b8e-fddc-4b30-86c6-b00c0956c12c",
   "metadata": {},
   "source": [
    "To visualise the vector dataset, we should reproject it. We are currently interested in one lake from the input dataset, named Groß Glienicker See.\n",
    "\n",
    "**TODO** - to replace with another name"
   ]
  },
  {
   "cell_type": "code",
   "execution_count": 7,
   "id": "c453a80a-81b5-4e52-8899-4ef0ee67c1d3",
   "metadata": {},
   "outputs": [
    {
     "data": {
      "text/html": [
       "<iframe srcdoc=\"&lt;!DOCTYPE html&gt;\n",
       "&lt;html&gt;\n",
       "&lt;head&gt;\n",
       "    \n",
       "    &lt;meta http-equiv=&quot;content-type&quot; content=&quot;text/html; charset=UTF-8&quot; /&gt;\n",
       "    \n",
       "        &lt;script&gt;\n",
       "            L_NO_TOUCH = false;\n",
       "            L_DISABLE_3D = false;\n",
       "        &lt;/script&gt;\n",
       "    \n",
       "    &lt;style&gt;html, body {width: 100%;height: 100%;margin: 0;padding: 0;}&lt;/style&gt;\n",
       "    &lt;style&gt;#map {position:absolute;top:0;bottom:0;right:0;left:0;}&lt;/style&gt;\n",
       "    &lt;script src=&quot;https://cdn.jsdelivr.net/npm/leaflet@1.9.3/dist/leaflet.js&quot;&gt;&lt;/script&gt;\n",
       "    &lt;script src=&quot;https://code.jquery.com/jquery-3.7.1.min.js&quot;&gt;&lt;/script&gt;\n",
       "    &lt;script src=&quot;https://cdn.jsdelivr.net/npm/bootstrap@5.2.2/dist/js/bootstrap.bundle.min.js&quot;&gt;&lt;/script&gt;\n",
       "    &lt;script src=&quot;https://cdnjs.cloudflare.com/ajax/libs/Leaflet.awesome-markers/2.0.2/leaflet.awesome-markers.js&quot;&gt;&lt;/script&gt;\n",
       "    &lt;link rel=&quot;stylesheet&quot; href=&quot;https://cdn.jsdelivr.net/npm/leaflet@1.9.3/dist/leaflet.css&quot;/&gt;\n",
       "    &lt;link rel=&quot;stylesheet&quot; href=&quot;https://cdn.jsdelivr.net/npm/bootstrap@5.2.2/dist/css/bootstrap.min.css&quot;/&gt;\n",
       "    &lt;link rel=&quot;stylesheet&quot; href=&quot;https://netdna.bootstrapcdn.com/bootstrap/3.0.0/css/bootstrap-glyphicons.css&quot;/&gt;\n",
       "    &lt;link rel=&quot;stylesheet&quot; href=&quot;https://cdn.jsdelivr.net/npm/@fortawesome/fontawesome-free@6.2.0/css/all.min.css&quot;/&gt;\n",
       "    &lt;link rel=&quot;stylesheet&quot; href=&quot;https://cdnjs.cloudflare.com/ajax/libs/Leaflet.awesome-markers/2.0.2/leaflet.awesome-markers.css&quot;/&gt;\n",
       "    &lt;link rel=&quot;stylesheet&quot; href=&quot;https://cdn.jsdelivr.net/gh/python-visualization/folium/folium/templates/leaflet.awesome.rotate.min.css&quot;/&gt;\n",
       "    \n",
       "            &lt;meta name=&quot;viewport&quot; content=&quot;width=device-width,\n",
       "                initial-scale=1.0, maximum-scale=1.0, user-scalable=no&quot; /&gt;\n",
       "            &lt;style&gt;\n",
       "                #map_e40b2a711e2355bbd6dec0eb3f4f4f27 {\n",
       "                    position: relative;\n",
       "                    width: 100.0%;\n",
       "                    height: 100.0%;\n",
       "                    left: 0.0%;\n",
       "                    top: 0.0%;\n",
       "                }\n",
       "                .leaflet-container { font-size: 1rem; }\n",
       "            &lt;/style&gt;\n",
       "        \n",
       "    &lt;script src=&quot;https://cdn.jsdelivr.net/npm/leaflet.fullscreen@3.0.0/Control.FullScreen.min.js&quot;&gt;&lt;/script&gt;\n",
       "    &lt;link rel=&quot;stylesheet&quot; href=&quot;https://cdn.jsdelivr.net/npm/leaflet.fullscreen@3.0.0/Control.FullScreen.css&quot;/&gt;\n",
       "    &lt;script src=&quot;https://cdnjs.cloudflare.com/ajax/libs/leaflet.draw/1.0.2/leaflet.draw.js&quot;&gt;&lt;/script&gt;\n",
       "    &lt;link rel=&quot;stylesheet&quot; href=&quot;https://cdnjs.cloudflare.com/ajax/libs/leaflet.draw/1.0.2/leaflet.draw.css&quot;/&gt;\n",
       "    &lt;script src=&quot;https://cdn.jsdelivr.net/gh/ljagis/leaflet-measure@2.1.7/dist/leaflet-measure.min.js&quot;&gt;&lt;/script&gt;\n",
       "    &lt;link rel=&quot;stylesheet&quot; href=&quot;https://cdn.jsdelivr.net/gh/ljagis/leaflet-measure@2.1.7/dist/leaflet-measure.min.css&quot;/&gt;\n",
       "    &lt;script src=&quot;https://unpkg.com/leaflet-control-geocoder/dist/Control.Geocoder.js&quot;&gt;&lt;/script&gt;\n",
       "    &lt;link rel=&quot;stylesheet&quot; href=&quot;https://unpkg.com/leaflet-control-geocoder/dist/Control.Geocoder.css&quot;/&gt;\n",
       "    \n",
       "                    &lt;style&gt;\n",
       "                        .foliumtooltip {\n",
       "                            \n",
       "                        }\n",
       "                       .foliumtooltip table{\n",
       "                            margin: auto;\n",
       "                        }\n",
       "                        .foliumtooltip tr{\n",
       "                            text-align: left;\n",
       "                        }\n",
       "                        .foliumtooltip th{\n",
       "                            padding: 2px; padding-right: 8px;\n",
       "                        }\n",
       "                    &lt;/style&gt;\n",
       "            \n",
       "    \n",
       "                    &lt;style&gt;\n",
       "                        .foliumtooltip {\n",
       "                            \n",
       "                        }\n",
       "                       .foliumtooltip table{\n",
       "                            margin: auto;\n",
       "                        }\n",
       "                        .foliumtooltip tr{\n",
       "                            text-align: left;\n",
       "                        }\n",
       "                        .foliumtooltip th{\n",
       "                            padding: 2px; padding-right: 8px;\n",
       "                        }\n",
       "                    &lt;/style&gt;\n",
       "            \n",
       "&lt;/head&gt;\n",
       "&lt;body&gt;\n",
       "    \n",
       "    \n",
       "            &lt;div class=&quot;folium-map&quot; id=&quot;map_e40b2a711e2355bbd6dec0eb3f4f4f27&quot; &gt;&lt;/div&gt;\n",
       "        \n",
       "&lt;/body&gt;\n",
       "&lt;script&gt;\n",
       "    \n",
       "    \n",
       "            var map_e40b2a711e2355bbd6dec0eb3f4f4f27 = L.map(\n",
       "                &quot;map_e40b2a711e2355bbd6dec0eb3f4f4f27&quot;,\n",
       "                {\n",
       "                    center: [52.466373739707954, 13.113259399844692],\n",
       "                    crs: L.CRS.EPSG3857,\n",
       "                    ...{\n",
       "  &quot;zoom&quot;: 14,\n",
       "  &quot;zoomControl&quot;: true,\n",
       "  &quot;preferCanvas&quot;: false,\n",
       "  &quot;drawExport&quot;: false,\n",
       "  &quot;layersControl&quot;: true,\n",
       "}\n",
       "\n",
       "                }\n",
       "            );\n",
       "            L.control.scale().addTo(map_e40b2a711e2355bbd6dec0eb3f4f4f27);\n",
       "\n",
       "            \n",
       "\n",
       "        \n",
       "    \n",
       "            var tile_layer_d61ecc179ffcc858dd3e89d21e0a19e9 = L.tileLayer(\n",
       "                &quot;https://tile.openstreetmap.org/{z}/{x}/{y}.png&quot;,\n",
       "                {\n",
       "  &quot;minZoom&quot;: 0,\n",
       "  &quot;maxZoom&quot;: 24,\n",
       "  &quot;maxNativeZoom&quot;: 24,\n",
       "  &quot;noWrap&quot;: false,\n",
       "  &quot;attribution&quot;: &quot;\\u0026copy; \\u003ca href=\\&quot;https://www.openstreetmap.org/copyright\\&quot;\\u003eOpenStreetMap\\u003c/a\\u003e contributors&quot;,\n",
       "  &quot;subdomains&quot;: &quot;abc&quot;,\n",
       "  &quot;detectRetina&quot;: false,\n",
       "  &quot;tms&quot;: false,\n",
       "  &quot;opacity&quot;: 1,\n",
       "}\n",
       "\n",
       "            );\n",
       "        \n",
       "    \n",
       "            tile_layer_d61ecc179ffcc858dd3e89d21e0a19e9.addTo(map_e40b2a711e2355bbd6dec0eb3f4f4f27);\n",
       "        \n",
       "    \n",
       "            L.control.fullscreen(\n",
       "                {\n",
       "  &quot;position&quot;: &quot;topleft&quot;,\n",
       "  &quot;title&quot;: &quot;Full Screen&quot;,\n",
       "  &quot;titleCancel&quot;: &quot;Exit Full Screen&quot;,\n",
       "  &quot;forceSeparateButton&quot;: false,\n",
       "}\n",
       "            ).addTo(map_e40b2a711e2355bbd6dec0eb3f4f4f27);\n",
       "        \n",
       "    \n",
       "            var options = {\n",
       "              position: &quot;topleft&quot;,\n",
       "              draw: {},\n",
       "              edit: {},\n",
       "            }\n",
       "                // FeatureGroup is to store editable layers.\n",
       "                var drawnItems_draw_control_05b125bd25367c1cbbeead06cf23d53b =\n",
       "                    new L.featureGroup().addTo(\n",
       "                        map_e40b2a711e2355bbd6dec0eb3f4f4f27\n",
       "                    );\n",
       "\n",
       "            options.edit.featureGroup = drawnItems_draw_control_05b125bd25367c1cbbeead06cf23d53b;\n",
       "            var draw_control_05b125bd25367c1cbbeead06cf23d53b = new L.Control.Draw(\n",
       "                options\n",
       "            ).addTo( map_e40b2a711e2355bbd6dec0eb3f4f4f27 );\n",
       "            map_e40b2a711e2355bbd6dec0eb3f4f4f27.on(L.Draw.Event.CREATED, function(e) {\n",
       "                var layer = e.layer,\n",
       "                    type = e.layerType;\n",
       "                var coords = JSON.stringify(layer.toGeoJSON());\n",
       "                layer.on(&#x27;click&#x27;, function() {\n",
       "                    alert(coords);\n",
       "                    console.log(coords);\n",
       "                });\n",
       "                drawnItems_draw_control_05b125bd25367c1cbbeead06cf23d53b.addLayer(layer);\n",
       "            });\n",
       "            map_e40b2a711e2355bbd6dec0eb3f4f4f27.on(&#x27;draw:created&#x27;, function(e) {\n",
       "                drawnItems_draw_control_05b125bd25367c1cbbeead06cf23d53b.addLayer(e.layer);\n",
       "            });\n",
       "\n",
       "            \n",
       "        \n",
       "    \n",
       "            var measure_control_8ab21a32672d4829361bce0b7bc81cdc = new L.Control.Measure(\n",
       "                {\n",
       "  &quot;position&quot;: &quot;bottomleft&quot;,\n",
       "  &quot;primaryLengthUnit&quot;: &quot;meters&quot;,\n",
       "  &quot;secondaryLengthUnit&quot;: &quot;miles&quot;,\n",
       "  &quot;primaryAreaUnit&quot;: &quot;sqmeters&quot;,\n",
       "  &quot;secondaryAreaUnit&quot;: &quot;acres&quot;,\n",
       "});\n",
       "            map_e40b2a711e2355bbd6dec0eb3f4f4f27.addControl(measure_control_8ab21a32672d4829361bce0b7bc81cdc);\n",
       "\n",
       "            // Workaround for using this plugin with Leaflet&gt;=1.8.0\n",
       "            // https://github.com/ljagis/leaflet-measure/issues/171\n",
       "            L.Control.Measure.include({\n",
       "                _setCaptureMarkerIcon: function () {\n",
       "                    // disable autopan\n",
       "                    this._captureMarker.options.autoPanOnFocus = false;\n",
       "                    // default function\n",
       "                    this._captureMarker.setIcon(\n",
       "                        L.divIcon({\n",
       "                            iconSize: this._map.getSize().multiplyBy(2)\n",
       "                        })\n",
       "                    );\n",
       "                },\n",
       "            });\n",
       "\n",
       "        \n",
       "    \n",
       "\n",
       "            var geocoderOpts_geocoder_3b7f7f7e4c8a3ccef95158756b9455ca = {\n",
       "  &quot;collapsed&quot;: true,\n",
       "  &quot;position&quot;: &quot;topleft&quot;,\n",
       "  &quot;defaultMarkGeocode&quot;: true,\n",
       "  &quot;zoom&quot;: 11,\n",
       "  &quot;provider&quot;: &quot;nominatim&quot;,\n",
       "  &quot;providerOptions&quot;: {\n",
       "},\n",
       "};\n",
       "\n",
       "            // note: geocoder name should start with lowercase\n",
       "            var geocoderName_geocoder_3b7f7f7e4c8a3ccef95158756b9455ca = geocoderOpts_geocoder_3b7f7f7e4c8a3ccef95158756b9455ca[&quot;provider&quot;];\n",
       "\n",
       "            var customGeocoder_geocoder_3b7f7f7e4c8a3ccef95158756b9455ca = L.Control.Geocoder[ geocoderName_geocoder_3b7f7f7e4c8a3ccef95158756b9455ca ](\n",
       "                geocoderOpts_geocoder_3b7f7f7e4c8a3ccef95158756b9455ca[&#x27;providerOptions&#x27;]\n",
       "            );\n",
       "            geocoderOpts_geocoder_3b7f7f7e4c8a3ccef95158756b9455ca[&quot;geocoder&quot;] = customGeocoder_geocoder_3b7f7f7e4c8a3ccef95158756b9455ca;\n",
       "\n",
       "            L.Control.geocoder(\n",
       "                geocoderOpts_geocoder_3b7f7f7e4c8a3ccef95158756b9455ca\n",
       "            ).on(&#x27;markgeocode&#x27;, function(e) {\n",
       "                var zoom = geocoderOpts_geocoder_3b7f7f7e4c8a3ccef95158756b9455ca[&#x27;zoom&#x27;] || map_e40b2a711e2355bbd6dec0eb3f4f4f27.getZoom();\n",
       "                map_e40b2a711e2355bbd6dec0eb3f4f4f27.setView(e.geocode.center, zoom);\n",
       "            }).addTo(map_e40b2a711e2355bbd6dec0eb3f4f4f27);\n",
       "\n",
       "        \n",
       "    \n",
       "            map_e40b2a711e2355bbd6dec0eb3f4f4f27.fitBounds(\n",
       "                [[52.466373739707954, 13.113259399844692], [52.466373739707954, 13.113259399844692]],\n",
       "                {&quot;maxZoom&quot;: 14}\n",
       "            );\n",
       "        \n",
       "    \n",
       "        function geo_json_a45a9551f12c52273d6e730ec7e5b528_styler(feature) {\n",
       "            switch(feature.id) {\n",
       "                default:\n",
       "                    return {&quot;fillOpacity&quot;: 0.5, &quot;weight&quot;: 2};\n",
       "            }\n",
       "        }\n",
       "        function geo_json_a45a9551f12c52273d6e730ec7e5b528_highlighter(feature) {\n",
       "            switch(feature.id) {\n",
       "                default:\n",
       "                    return {&quot;fillOpacity&quot;: 0.75};\n",
       "            }\n",
       "        }\n",
       "        function geo_json_a45a9551f12c52273d6e730ec7e5b528_pointToLayer(feature, latlng) {\n",
       "            var opts = {&quot;bubblingMouseEvents&quot;: true, &quot;color&quot;: &quot;#3388ff&quot;, &quot;dashArray&quot;: null, &quot;dashOffset&quot;: null, &quot;fill&quot;: true, &quot;fillColor&quot;: &quot;#3388ff&quot;, &quot;fillOpacity&quot;: 0.2, &quot;fillRule&quot;: &quot;evenodd&quot;, &quot;lineCap&quot;: &quot;round&quot;, &quot;lineJoin&quot;: &quot;round&quot;, &quot;opacity&quot;: 1.0, &quot;radius&quot;: 2, &quot;stroke&quot;: true, &quot;weight&quot;: 3};\n",
       "            \n",
       "            let style = geo_json_a45a9551f12c52273d6e730ec7e5b528_styler(feature)\n",
       "            Object.assign(opts, style)\n",
       "            \n",
       "            return new L.CircleMarker(latlng, opts)\n",
       "        }\n",
       "\n",
       "        function geo_json_a45a9551f12c52273d6e730ec7e5b528_onEachFeature(feature, layer) {\n",
       "            layer.on({\n",
       "                mouseout: function(e) {\n",
       "                    if(typeof e.target.setStyle === &quot;function&quot;){\n",
       "                            geo_json_a45a9551f12c52273d6e730ec7e5b528.resetStyle(e.target);\n",
       "                    }\n",
       "                },\n",
       "                mouseover: function(e) {\n",
       "                    if(typeof e.target.setStyle === &quot;function&quot;){\n",
       "                        const highlightStyle = geo_json_a45a9551f12c52273d6e730ec7e5b528_highlighter(e.target.feature)\n",
       "                        e.target.setStyle(highlightStyle);\n",
       "                    }\n",
       "                },\n",
       "            });\n",
       "        };\n",
       "        var geo_json_a45a9551f12c52273d6e730ec7e5b528 = L.geoJson(null, {\n",
       "                onEachFeature: geo_json_a45a9551f12c52273d6e730ec7e5b528_onEachFeature,\n",
       "            \n",
       "                style: geo_json_a45a9551f12c52273d6e730ec7e5b528_styler,\n",
       "                pointToLayer: geo_json_a45a9551f12c52273d6e730ec7e5b528_pointToLayer,\n",
       "            ...{\n",
       "}\n",
       "        });\n",
       "\n",
       "        function geo_json_a45a9551f12c52273d6e730ec7e5b528_add (data) {\n",
       "            geo_json_a45a9551f12c52273d6e730ec7e5b528\n",
       "                .addData(data);\n",
       "        }\n",
       "            geo_json_a45a9551f12c52273d6e730ec7e5b528_add({&quot;bbox&quot;: [13.1056403, 52.4567457, 13.118754, 52.4739705], &quot;features&quot;: [{&quot;bbox&quot;: [13.1056403, 52.4567457, 13.118754, 52.4739705], &quot;geometry&quot;: {&quot;coordinates&quot;: [[[13.1114425, 52.4567457], [13.106327, 52.4578336], [13.1060094, 52.4579225], [13.1057761, 52.4581037], [13.1056661, 52.4581892], [13.1056403, 52.4583932], [13.1076488, 52.464606], [13.1109447, 52.4704989], [13.1152791, 52.4734059], [13.1157598, 52.4737196], [13.1162753, 52.4739012], [13.1164722, 52.4739705], [13.1173652, 52.4738855], [13.1181201, 52.4736621], [13.1185062, 52.4733981], [13.1187357, 52.4729015], [13.118754, 52.4726661], [13.1145008, 52.4610211], [13.1139961, 52.4599324], [13.1116828, 52.4568712], [13.1115626, 52.4567771], [13.1114425, 52.4567457]]], &quot;type&quot;: &quot;Polygon&quot;}, &quot;id&quot;: &quot;20&quot;, &quot;properties&quot;: {}, &quot;type&quot;: &quot;Feature&quot;}], &quot;type&quot;: &quot;FeatureCollection&quot;});\n",
       "\n",
       "        \n",
       "    \n",
       "    geo_json_a45a9551f12c52273d6e730ec7e5b528.bindTooltip(\n",
       "    function(layer){\n",
       "    let div = L.DomUtil.create(&#x27;div&#x27;);\n",
       "    \n",
       "    return div\n",
       "    }\n",
       "    ,{\n",
       "  &quot;sticky&quot;: true,\n",
       "  &quot;className&quot;: &quot;foliumtooltip&quot;,\n",
       "});\n",
       "                     \n",
       "    \n",
       "            geo_json_a45a9551f12c52273d6e730ec7e5b528.addTo(map_e40b2a711e2355bbd6dec0eb3f4f4f27);\n",
       "        \n",
       "    \n",
       "        function geo_json_ac011564cac925c2cfec5b3bfa42e794_styler(feature) {\n",
       "            switch(feature.id) {\n",
       "                default:\n",
       "                    return {&quot;color&quot;: &quot;black&quot;, &quot;fill&quot;: false, &quot;fillOpacity&quot;: 0.5, &quot;weight&quot;: 2};\n",
       "            }\n",
       "        }\n",
       "        function geo_json_ac011564cac925c2cfec5b3bfa42e794_highlighter(feature) {\n",
       "            switch(feature.id) {\n",
       "                default:\n",
       "                    return {&quot;fillOpacity&quot;: 0.75};\n",
       "            }\n",
       "        }\n",
       "        function geo_json_ac011564cac925c2cfec5b3bfa42e794_pointToLayer(feature, latlng) {\n",
       "            var opts = {&quot;bubblingMouseEvents&quot;: true, &quot;color&quot;: &quot;#3388ff&quot;, &quot;dashArray&quot;: null, &quot;dashOffset&quot;: null, &quot;fill&quot;: true, &quot;fillColor&quot;: &quot;#3388ff&quot;, &quot;fillOpacity&quot;: 0.2, &quot;fillRule&quot;: &quot;evenodd&quot;, &quot;lineCap&quot;: &quot;round&quot;, &quot;lineJoin&quot;: &quot;round&quot;, &quot;opacity&quot;: 1.0, &quot;radius&quot;: 2, &quot;stroke&quot;: true, &quot;weight&quot;: 3};\n",
       "            \n",
       "            let style = geo_json_ac011564cac925c2cfec5b3bfa42e794_styler(feature)\n",
       "            Object.assign(opts, style)\n",
       "            \n",
       "            return new L.CircleMarker(latlng, opts)\n",
       "        }\n",
       "\n",
       "        function geo_json_ac011564cac925c2cfec5b3bfa42e794_onEachFeature(feature, layer) {\n",
       "            layer.on({\n",
       "                mouseout: function(e) {\n",
       "                    if(typeof e.target.setStyle === &quot;function&quot;){\n",
       "                            geo_json_ac011564cac925c2cfec5b3bfa42e794.resetStyle(e.target);\n",
       "                    }\n",
       "                },\n",
       "                mouseover: function(e) {\n",
       "                    if(typeof e.target.setStyle === &quot;function&quot;){\n",
       "                        const highlightStyle = geo_json_ac011564cac925c2cfec5b3bfa42e794_highlighter(e.target.feature)\n",
       "                        e.target.setStyle(highlightStyle);\n",
       "                    }\n",
       "                },\n",
       "            });\n",
       "        };\n",
       "        var geo_json_ac011564cac925c2cfec5b3bfa42e794 = L.geoJson(null, {\n",
       "                onEachFeature: geo_json_ac011564cac925c2cfec5b3bfa42e794_onEachFeature,\n",
       "            \n",
       "                style: geo_json_ac011564cac925c2cfec5b3bfa42e794_styler,\n",
       "                pointToLayer: geo_json_ac011564cac925c2cfec5b3bfa42e794_pointToLayer,\n",
       "            ...{\n",
       "}\n",
       "        });\n",
       "\n",
       "        function geo_json_ac011564cac925c2cfec5b3bfa42e794_add (data) {\n",
       "            geo_json_ac011564cac925c2cfec5b3bfa42e794\n",
       "                .addData(data);\n",
       "        }\n",
       "            geo_json_ac011564cac925c2cfec5b3bfa42e794_add({&quot;bbox&quot;: [13.1056403, 52.4567457, 13.118754, 52.4739705], &quot;features&quot;: [{&quot;bbox&quot;: [13.1056403, 52.4567457, 13.118754, 52.4739705], &quot;geometry&quot;: {&quot;coordinates&quot;: [[[13.118754, 52.4567457], [13.118754, 52.4739705], [13.1056403, 52.4739705], [13.1056403, 52.4567457], [13.118754, 52.4567457]]], &quot;type&quot;: &quot;Polygon&quot;}, &quot;id&quot;: &quot;0&quot;, &quot;properties&quot;: {}, &quot;type&quot;: &quot;Feature&quot;}], &quot;type&quot;: &quot;FeatureCollection&quot;});\n",
       "\n",
       "        \n",
       "    \n",
       "    geo_json_ac011564cac925c2cfec5b3bfa42e794.bindTooltip(\n",
       "    function(layer){\n",
       "    let div = L.DomUtil.create(&#x27;div&#x27;);\n",
       "    \n",
       "    return div\n",
       "    }\n",
       "    ,{\n",
       "  &quot;sticky&quot;: true,\n",
       "  &quot;className&quot;: &quot;foliumtooltip&quot;,\n",
       "});\n",
       "                     \n",
       "    \n",
       "            geo_json_ac011564cac925c2cfec5b3bfa42e794.addTo(map_e40b2a711e2355bbd6dec0eb3f4f4f27);\n",
       "        \n",
       "    \n",
       "            var layer_control_c4a792b9ebdc4c37cb15dd20c518fe45_layers = {\n",
       "                base_layers : {\n",
       "                    &quot;openstreetmap&quot; : tile_layer_d61ecc179ffcc858dd3e89d21e0a19e9,\n",
       "                },\n",
       "                overlays :  {\n",
       "                    &quot;macro_element_a45a9551f12c52273d6e730ec7e5b528&quot; : geo_json_a45a9551f12c52273d6e730ec7e5b528,\n",
       "                    &quot;macro_element_ac011564cac925c2cfec5b3bfa42e794&quot; : geo_json_ac011564cac925c2cfec5b3bfa42e794,\n",
       "                },\n",
       "            };\n",
       "            let layer_control_c4a792b9ebdc4c37cb15dd20c518fe45 = L.control.layers(\n",
       "                layer_control_c4a792b9ebdc4c37cb15dd20c518fe45_layers.base_layers,\n",
       "                layer_control_c4a792b9ebdc4c37cb15dd20c518fe45_layers.overlays,\n",
       "                {\n",
       "  &quot;position&quot;: &quot;topright&quot;,\n",
       "  &quot;collapsed&quot;: true,\n",
       "  &quot;autoZIndex&quot;: true,\n",
       "}\n",
       "            ).addTo(map_e40b2a711e2355bbd6dec0eb3f4f4f27);\n",
       "\n",
       "        \n",
       "&lt;/script&gt;\n",
       "&lt;/html&gt;\" width=\"100%\" height=\"600\"style=\"border:none !important;\" \"allowfullscreen\" \"webkitallowfullscreen\" \"mozallowfullscreen\"></iframe>"
      ],
      "text/plain": [
       "<leafmap.foliumap.Map at 0x7f075beb3d40>"
      ]
     },
     "execution_count": 7,
     "metadata": {},
     "output_type": "execute_result"
    }
   ],
   "source": [
    "import geopandas as gpd\n",
    "from shapely.geometry import box\n",
    "import folium\n",
    "\n",
    "if vector.crs != (\"EPSG:4326\"):\n",
    "    print (\"CRS different from EPSG:4326. Reprojecting...\")\n",
    "    vector = vector.to_crs(\"EPSG:4326\")\n",
    "\n",
    "# filtering vector dataset by the name of lake \n",
    "vector = vector[vector[feature_name_col] == feature_name] #https://stackoverflow.com/questions/45990001/forcing-pandas-iloc-to-return-a-single-row-dataframe/45990057\n",
    "vector_polygon = vector['geometry'].iloc[0].convex_hull\n",
    "bounding_box = box(*vector.total_bounds) # create bbox\n",
    "\n",
    "center_lat = float(vector.geometry.centroid.y.mean()) # better to use y.mean() and x.min()) instead of y and x if multiple features used, otherwise it will return Geoseries, not single points\n",
    "center_lon = float(vector.geometry.centroid.x.mean())\n",
    "center = (center_lat + leaflet_offset, center_lon + leaflet_offset)\n",
    "m = leafmap.Map(center=center, zoom=zoom)\n",
    "\n",
    "vector.convex_hull.explore(m=m)\n",
    "\n",
    "bounding_box_df = gpd.GeoDataFrame([[bounding_box]], columns=['geometry'], crs = vector.crs)\n",
    "bounding_box_df.explore(m=m, style_kwds=dict(color=\"black\", fill = False))\n",
    "\n",
    "m # show"
   ]
  },
  {
   "cell_type": "markdown",
   "id": "284cd7b6-e646-4950-b747-4e1a734f148b",
   "metadata": {},
   "source": [
    "##### ***Inspect Metadata***\n",
    "We need to set the following configurations to define the content of the data cube we want to access:\n",
    "- dataset name\n",
    "- band names\n",
    "- time range\n",
    "- the area of interest specifed via bounding box coordinates\n",
    "- spatial resolution\n",
    "\n",
    "To select the correct dataset we can first list all the available datasets."
   ]
  },
  {
   "cell_type": "code",
   "execution_count": 8,
   "id": "7a3592c5-f078-48c0-b039-270fe99f48d6",
   "metadata": {
    "tags": []
   },
   "outputs": [
    {
     "name": "stdout",
     "output_type": "stream",
     "text": [
      "['SENTINEL3_OLCI_L1B', 'SENTINEL3_SLSTR', 'SENTINEL_5P_L2', 'COPERNICUS_VEGETATION_PHENOLOGY_PRODUCTIVITY_10M_SEASON1', 'COPERNICUS_VEGETATION_PHENOLOGY_PRODUCTIVITY_10M_SEASON2', 'COPERNICUS_PLANT_PHENOLOGY_INDEX', 'ESA_WORLDCOVER_10M_2020_V1', 'ESA_WORLDCOVER_10M_2021_V2', 'COPERNICUS_VEGETATION_INDICES', 'SENTINEL2_L1C', 'SENTINEL2_L2A', 'SENTINEL1_GRD', 'COPERNICUS_30', 'LANDSAT8_L2', 'SENTINEL3_SYN_L2_SYN', 'SENTINEL3_SLSTR_L2_LST', 'SENTINEL1_GLOBAL_MOSAICS']\n"
     ]
    }
   ],
   "source": [
    "print(conn.list_collection_ids())"
   ]
  },
  {
   "cell_type": "markdown",
   "id": "958ff432-b8cb-45b5-b6c4-68c1e0f92640",
   "metadata": {},
   "source": [
    "We want to use the Sentinel-2 L2A product. It's name is `'SENTINEL2_L2A'`. \n",
    "\n",
    "We get the metadata for this collection as follows. This is an important step to familiarize yourself with the data collection (e.g. learn the band names). Take a note that bands vary in spatial resolution (GSD) which is common for Sentinel products.\n",
    "\n",
    "**Note:** there is no information on **no data values** in the OpenEO collections!"
   ]
  },
  {
   "cell_type": "code",
   "execution_count": 9,
   "id": "7bf6babb-457b-4a09-81d5-092b92c32d5d",
   "metadata": {
    "scrolled": true,
    "tags": []
   },
   "outputs": [
    {
     "data": {
      "text/html": [
       "\n",
       "    <script>\n",
       "    if (!window.customElements || !window.customElements.get('openeo-collection')) {\n",
       "        var el = document.createElement('script');\n",
       "        el.src = \"https://cdn.jsdelivr.net/npm/@openeo/vue-components@2/assets/openeo.min.js\";\n",
       "        document.head.appendChild(el);\n",
       "\n",
       "        var font = document.createElement('font');\n",
       "        font.as = \"font\";\n",
       "        font.type = \"font/woff2\";\n",
       "        font.crossOrigin = true;\n",
       "        font.href = \"https://use.fontawesome.com/releases/v5.13.0/webfonts/fa-solid-900.woff2\"\n",
       "        document.head.appendChild(font);\n",
       "    }\n",
       "    </script>\n",
       "    <openeo-collection>\n",
       "        <script type=\"application/json\">{\"mapOptions\": {}, \"data\": {\"assets\": {\"thumbnail\": {\"href\": \"https://www.esa.int/var/esa/storage/images/esa_multimedia/images/2022/07/tallinn_estonia/24383281-1-eng-GB/Tallinn_Estonia_pillars.jpg\", \"roles\": [\"thumbnail\"], \"title\": \"Sentinel 2 L2A\", \"type\": \"image/png\"}}, \"cube:dimensions\": {\"bands\": {\"type\": \"bands\", \"values\": [\"B01\", \"B02\", \"B03\", \"B04\", \"B05\", \"B06\", \"B07\", \"B08\", \"B8A\", \"B09\", \"B11\", \"B12\", \"WVP\", \"AOT\", \"SCL\", \"sunAzimuthAngles\", \"sunZenithAngles\", \"viewAzimuthMean\", \"viewZenithMean\"]}, \"t\": {\"extent\": [\"2015-07-04T00:00:00Z\", null], \"type\": \"temporal\"}, \"x\": {\"axis\": \"x\", \"extent\": [-180, 180], \"reference_system\": {\"$schema\": \"https://proj.org/schemas/v0.2/projjson.schema.json\", \"area\": \"World\", \"bbox\": {\"east_longitude\": 180, \"north_latitude\": 90, \"south_latitude\": -90, \"west_longitude\": -180}, \"coordinate_system\": {\"axis\": [{\"abbreviation\": \"Lat\", \"direction\": \"north\", \"name\": \"Geodetic latitude\", \"unit\": \"degree\"}, {\"abbreviation\": \"Lon\", \"direction\": \"east\", \"name\": \"Geodetic longitude\", \"unit\": \"degree\"}], \"subtype\": \"ellipsoidal\"}, \"datum\": {\"ellipsoid\": {\"inverse_flattening\": 298.257223563, \"name\": \"WGS 84\", \"semi_major_axis\": 6378137}, \"name\": \"World Geodetic System 1984\", \"type\": \"GeodeticReferenceFrame\"}, \"id\": {\"authority\": \"OGC\", \"code\": \"Auto42001\", \"version\": \"1.3\"}, \"name\": \"AUTO 42001 (Universal Transverse Mercator)\", \"type\": \"GeodeticCRS\"}, \"step\": 10, \"type\": \"spatial\"}, \"y\": {\"axis\": \"y\", \"extent\": [-56, 83], \"reference_system\": {\"$schema\": \"https://proj.org/schemas/v0.2/projjson.schema.json\", \"area\": \"World\", \"bbox\": {\"east_longitude\": 180, \"north_latitude\": 90, \"south_latitude\": -90, \"west_longitude\": -180}, \"coordinate_system\": {\"axis\": [{\"abbreviation\": \"Lat\", \"direction\": \"north\", \"name\": \"Geodetic latitude\", \"unit\": \"degree\"}, {\"abbreviation\": \"Lon\", \"direction\": \"east\", \"name\": \"Geodetic longitude\", \"unit\": \"degree\"}], \"subtype\": \"ellipsoidal\"}, \"datum\": {\"ellipsoid\": {\"inverse_flattening\": 298.257223563, \"name\": \"WGS 84\", \"semi_major_axis\": 6378137}, \"name\": \"World Geodetic System 1984\", \"type\": \"GeodeticReferenceFrame\"}, \"id\": {\"authority\": \"OGC\", \"code\": \"Auto42001\", \"version\": \"1.3\"}, \"name\": \"AUTO 42001 (Universal Transverse Mercator)\", \"type\": \"GeodeticCRS\"}, \"step\": 10, \"type\": \"spatial\"}}, \"description\": \"SENTINEL-2 is a wide-swath, high-resolution, multi-spectral imaging mission, supporting Copernicus Land Monitoring studies, including the monitoring of vegetation, soil and water cover, as well as observation of inland waterways and coastal areas. The SENTINEL-2 Multispectral Instrument (MSI) samples 13 spectral bands: four bands at 10 metres, six bands at 20 metres and three bands at 60 metres spatial resolution.\\n The level 2A data is atmospherically corrected using Sen2Cor.\", \"extent\": {\"spatial\": {\"bbox\": [[-180, -56, 180, 83]]}, \"temporal\": {\"interval\": [[\"2015-07-04T00:00:00Z\", null]]}}, \"id\": \"SENTINEL2_L2A\", \"keywords\": [\"COPERNICUS\", \"ESA\", \"Orthoimagery\", \"Sentinel-2\", \"MSI\", \"Level-2A\", \"Radiometry\", \"Plant Resource\", \"TOC\"], \"license\": \"proprietary\", \"links\": [{\"href\": \"https://sentinels.copernicus.eu/documents/247904/690755/Sentinel_Data_Legal_Notice\", \"rel\": \"license\", \"type\": \"application/pdf\"}, {\"href\": \"https://documentation.dataspace.copernicus.eu/Data/SentinelMissions/Sentinel2.html#sentinel-2-level-2a-top-of-canopy-toc\", \"rel\": \"alternate\", \"type\": \"application/html\"}, {\"href\": \"https://dataspace.copernicus.eu/browser/?zoom=11&lat=45.36638&lng=12.49832&themeId=DEFAULT-THEME&visualizationUrl=https%3A%2F%2Fsh.dataspace.copernicus.eu%2Fogc%2Fwms%2F28b654e7-8912-4e59-9e58-85b58d768b3a&datasetId=S2_L2A_CDAS&fromTime=2023-02-07T00%3A00%3A00.000Z&toTime=2023-02-07T23%3A59%3A59.999Z&layerId=1_TRUE_COLOR&demSource3D=%22MAPZEN%22&cloudCoverage=10\", \"rel\": \"browser\", \"title\": \"CDSE Data-Browser\"}, {\"href\": \"https://catalogue.dataspace.copernicus.eu/resto/api/collections/Sentinel2/search.json?cloudCover=[0,10]&productType=S2MSI2A&startDate=2022-06-11&completionDate=2022-06-22&maxRecords=10\", \"rel\": \"opensearch\", \"title\": \"Opensearch product query\"}, {\"href\": \"https://sentinels.copernicus.eu/web/sentinel/user-guides/sentinel-2-msi/product-types/level-2a\", \"rel\": \"about\", \"title\": \"User guide\"}, {\"href\": \"https://services.sentinel-hub.com/ogc/wmts/7d34803f-511c-4caf-9438-6d72f32c8174\", \"rel\": \"wmts\", \"title\": \"Web Map Tile Service\", \"wmts:dimensions\": {\"warnings\": true}, \"wmts:layer\": \"TRUE-COLOR\"}, {\"href\": \"https://openeo.dataspace.copernicus.eu/openeo/1.2/collections\", \"rel\": \"root\"}, {\"href\": \"https://openeo.dataspace.copernicus.eu/openeo/1.2/collections\", \"rel\": \"parent\"}, {\"href\": \"https://openeo.dataspace.copernicus.eu/openeo/1.2/collections/SENTINEL2_L2A\", \"rel\": \"self\"}], \"mission\": \"Sentinel-2\", \"name\": \"SENTINEL2_L2A\", \"providers\": [{\"name\": \"ESA\", \"roles\": [\"producer\"], \"url\": \"https://esa.int/\"}, {\"name\": \"CDSE\", \"roles\": [\"processor\", \"host\"], \"url\": \"https://dataspace.copernicus.eu/\"}], \"stac_extensions\": [\"https://stac-extensions.github.io/datacube/v2.2.0/schema.json\", \"https://stac-extensions.github.io/eo/v1.1.0/schema.json\"], \"stac_version\": \"0.9.0\", \"summaries\": {\"constellation\": [\"sentinel-2\"], \"eo:bands\": [{\"aliases\": [\"IMG_DATA_Band_B01_60m_Tile1_Data\"], \"center_wavelength\": 0.4427, \"common_name\": \"coastal\", \"full_width_half_max\": 0.021, \"gsd\": 60, \"name\": \"B01\", \"offset\": 0, \"scale\": 0.0001, \"type\": \"int16\", \"unit\": \"1\"}, {\"aliases\": [\"IMG_DATA_Band_B02_10m_Tile1_Data\"], \"center_wavelength\": 0.4924, \"common_name\": \"blue\", \"full_width_half_max\": 0.066, \"gsd\": 10, \"name\": \"B02\", \"offset\": 0, \"scale\": 0.0001, \"type\": \"int16\", \"unit\": \"1\"}, {\"aliases\": [\"IMG_DATA_Band_B03_10m_Tile1_Data\"], \"center_wavelength\": 0.5598, \"common_name\": \"green\", \"full_width_half_max\": 0.036, \"gsd\": 10, \"name\": \"B03\", \"offset\": 0, \"scale\": 0.0001, \"type\": \"int16\", \"unit\": \"1\"}, {\"aliases\": [\"IMG_DATA_Band_B04_10m_Tile1_Data\"], \"center_wavelength\": 0.6646, \"common_name\": \"red\", \"full_width_half_max\": 0.031, \"gsd\": 10, \"name\": \"B04\", \"offset\": 0, \"scale\": 0.0001, \"type\": \"int16\", \"unit\": \"1\"}, {\"aliases\": [\"IMG_DATA_Band_B05_20m_Tile1_Data\"], \"center_wavelength\": 0.7041, \"full_width_half_max\": 0.015, \"gsd\": 20, \"name\": \"B05\", \"offset\": 0, \"scale\": 0.0001, \"type\": \"int16\", \"unit\": \"1\"}, {\"aliases\": [\"IMG_DATA_Band_B06_20m_Tile1_Data\"], \"center_wavelength\": 0.7405, \"full_width_half_max\": 0.015, \"gsd\": 20, \"name\": \"B06\", \"offset\": 0, \"scale\": 0.0001, \"type\": \"int16\", \"unit\": \"1\"}, {\"aliases\": [\"IMG_DATA_Band_B07_20m_Tile1_Data\"], \"center_wavelength\": 0.7828, \"full_width_half_max\": 0.02, \"gsd\": 20, \"name\": \"B07\", \"offset\": 0, \"scale\": 0.0001, \"type\": \"int16\", \"unit\": \"1\"}, {\"aliases\": [\"IMG_DATA_Band_B08_10m_Tile1_Data\"], \"center_wavelength\": 0.8328, \"common_name\": \"nir\", \"full_width_half_max\": 0.106, \"gsd\": 10, \"name\": \"B08\", \"offset\": 0, \"scale\": 0.0001, \"type\": \"int16\", \"unit\": \"1\"}, {\"aliases\": [\"IMG_DATA_Band_B8A_20m_Tile1_Data\"], \"center_wavelength\": 0.8647, \"common_name\": \"nir08\", \"full_width_half_max\": 0.021, \"gsd\": 20, \"name\": \"B8A\", \"offset\": 0, \"scale\": 0.0001, \"type\": \"int16\", \"unit\": \"1\"}, {\"aliases\": [\"IMG_DATA_Band_B09_60m_Tile1_Data\"], \"center_wavelength\": 0.9451, \"common_name\": \"nir09\", \"full_width_half_max\": 0.02, \"gsd\": 60, \"name\": \"B09\", \"offset\": 0, \"scale\": 0.0001, \"type\": \"int16\", \"unit\": \"1\"}, {\"aliases\": [\"IMG_DATA_Band_B11_20m_Tile1_Data\"], \"center_wavelength\": 1.6137, \"common_name\": \"swir16\", \"full_width_half_max\": 0.091, \"gsd\": 20, \"name\": \"B11\", \"offset\": 0, \"scale\": 0.0001, \"type\": \"int16\", \"unit\": \"1\"}, {\"aliases\": [\"IMG_DATA_Band_B12_20m_Tile1_Data\"], \"center_wavelength\": 2.2024, \"common_name\": \"swir22\", \"full_width_half_max\": 0.175, \"gsd\": 20, \"name\": \"B12\", \"offset\": 0, \"scale\": 0.0001, \"type\": \"int16\", \"unit\": \"1\"}, {\"aliases\": [\"IMG_DATA_Band_WVP_10m_Tile1_Data\"], \"name\": \"WVP\"}, {\"aliases\": [\"IMG_DATA_Band_AOT_20m_Tile1_Data\"], \"name\": \"AOT\"}, {\"aliases\": [\"IMG_DATA_Band_SCL_20m_Tile1_Data\"], \"gsd\": 20, \"name\": \"SCL\"}, {\"aliases\": [\"S2_Level-2A_Tile1_Metadata##0\", \"SAA\"], \"name\": \"sunAzimuthAngles\", \"unit\": \"deg\"}, {\"aliases\": [\"S2_Level-2A_Tile1_Metadata##1\", \"SZA\"], \"name\": \"sunZenithAngles\", \"unit\": \"deg\"}, {\"aliases\": [\"S2_Level-2A_Tile1_Metadata##2\", \"VAA\", \"approximateViewAzimuth\"], \"name\": \"viewAzimuthMean\", \"unit\": \"deg\"}, {\"aliases\": [\"S2_Level-2A_Tile1_Metadata##3\", \"VZA\", \"approximateViewZenith\"], \"name\": \"viewZenithMean\", \"unit\": \"deg\"}], \"eo:cloud_cover\": {\"maximum\": 100, \"minimum\": 0}, \"gsd\": [10], \"instrument\": [\"msi\"], \"platform\": [\"sentinel-2a\", \"sentinel-2b\"], \"productIdentifier\": {}}, \"title\": \"Sentinel-2 L2A\"}}</script>\n",
       "    </openeo-collection>\n",
       "    "
      ],
      "text/plain": [
       "{'assets': {'thumbnail': {'href': 'https://www.esa.int/var/esa/storage/images/esa_multimedia/images/2022/07/tallinn_estonia/24383281-1-eng-GB/Tallinn_Estonia_pillars.jpg',\n",
       "   'roles': ['thumbnail'],\n",
       "   'title': 'Sentinel 2 L2A',\n",
       "   'type': 'image/png'}},\n",
       " 'cube:dimensions': {'bands': {'type': 'bands',\n",
       "   'values': ['B01',\n",
       "    'B02',\n",
       "    'B03',\n",
       "    'B04',\n",
       "    'B05',\n",
       "    'B06',\n",
       "    'B07',\n",
       "    'B08',\n",
       "    'B8A',\n",
       "    'B09',\n",
       "    'B11',\n",
       "    'B12',\n",
       "    'WVP',\n",
       "    'AOT',\n",
       "    'SCL',\n",
       "    'sunAzimuthAngles',\n",
       "    'sunZenithAngles',\n",
       "    'viewAzimuthMean',\n",
       "    'viewZenithMean']},\n",
       "  't': {'extent': ['2015-07-04T00:00:00Z', None], 'type': 'temporal'},\n",
       "  'x': {'axis': 'x',\n",
       "   'extent': [-180, 180],\n",
       "   'reference_system': {'$schema': 'https://proj.org/schemas/v0.2/projjson.schema.json',\n",
       "    'area': 'World',\n",
       "    'bbox': {'east_longitude': 180,\n",
       "     'north_latitude': 90,\n",
       "     'south_latitude': -90,\n",
       "     'west_longitude': -180},\n",
       "    'coordinate_system': {'axis': [{'abbreviation': 'Lat',\n",
       "       'direction': 'north',\n",
       "       'name': 'Geodetic latitude',\n",
       "       'unit': 'degree'},\n",
       "      {'abbreviation': 'Lon',\n",
       "       'direction': 'east',\n",
       "       'name': 'Geodetic longitude',\n",
       "       'unit': 'degree'}],\n",
       "     'subtype': 'ellipsoidal'},\n",
       "    'datum': {'ellipsoid': {'inverse_flattening': 298.257223563,\n",
       "      'name': 'WGS 84',\n",
       "      'semi_major_axis': 6378137},\n",
       "     'name': 'World Geodetic System 1984',\n",
       "     'type': 'GeodeticReferenceFrame'},\n",
       "    'id': {'authority': 'OGC', 'code': 'Auto42001', 'version': '1.3'},\n",
       "    'name': 'AUTO 42001 (Universal Transverse Mercator)',\n",
       "    'type': 'GeodeticCRS'},\n",
       "   'step': 10,\n",
       "   'type': 'spatial'},\n",
       "  'y': {'axis': 'y',\n",
       "   'extent': [-56, 83],\n",
       "   'reference_system': {'$schema': 'https://proj.org/schemas/v0.2/projjson.schema.json',\n",
       "    'area': 'World',\n",
       "    'bbox': {'east_longitude': 180,\n",
       "     'north_latitude': 90,\n",
       "     'south_latitude': -90,\n",
       "     'west_longitude': -180},\n",
       "    'coordinate_system': {'axis': [{'abbreviation': 'Lat',\n",
       "       'direction': 'north',\n",
       "       'name': 'Geodetic latitude',\n",
       "       'unit': 'degree'},\n",
       "      {'abbreviation': 'Lon',\n",
       "       'direction': 'east',\n",
       "       'name': 'Geodetic longitude',\n",
       "       'unit': 'degree'}],\n",
       "     'subtype': 'ellipsoidal'},\n",
       "    'datum': {'ellipsoid': {'inverse_flattening': 298.257223563,\n",
       "      'name': 'WGS 84',\n",
       "      'semi_major_axis': 6378137},\n",
       "     'name': 'World Geodetic System 1984',\n",
       "     'type': 'GeodeticReferenceFrame'},\n",
       "    'id': {'authority': 'OGC', 'code': 'Auto42001', 'version': '1.3'},\n",
       "    'name': 'AUTO 42001 (Universal Transverse Mercator)',\n",
       "    'type': 'GeodeticCRS'},\n",
       "   'step': 10,\n",
       "   'type': 'spatial'}},\n",
       " 'description': 'SENTINEL-2 is a wide-swath, high-resolution, multi-spectral imaging mission, supporting Copernicus Land Monitoring studies, including the monitoring of vegetation, soil and water cover, as well as observation of inland waterways and coastal areas. The SENTINEL-2 Multispectral Instrument (MSI) samples 13 spectral bands: four bands at 10 metres, six bands at 20 metres and three bands at 60 metres spatial resolution.\\n The level 2A data is atmospherically corrected using Sen2Cor.',\n",
       " 'extent': {'spatial': {'bbox': [[-180, -56, 180, 83]]},\n",
       "  'temporal': {'interval': [['2015-07-04T00:00:00Z', None]]}},\n",
       " 'id': 'SENTINEL2_L2A',\n",
       " 'keywords': ['COPERNICUS',\n",
       "  'ESA',\n",
       "  'Orthoimagery',\n",
       "  'Sentinel-2',\n",
       "  'MSI',\n",
       "  'Level-2A',\n",
       "  'Radiometry',\n",
       "  'Plant Resource',\n",
       "  'TOC'],\n",
       " 'license': 'proprietary',\n",
       " 'links': [{'href': 'https://sentinels.copernicus.eu/documents/247904/690755/Sentinel_Data_Legal_Notice',\n",
       "   'rel': 'license',\n",
       "   'type': 'application/pdf'},\n",
       "  {'href': 'https://documentation.dataspace.copernicus.eu/Data/SentinelMissions/Sentinel2.html#sentinel-2-level-2a-top-of-canopy-toc',\n",
       "   'rel': 'alternate',\n",
       "   'type': 'application/html'},\n",
       "  {'href': 'https://dataspace.copernicus.eu/browser/?zoom=11&lat=45.36638&lng=12.49832&themeId=DEFAULT-THEME&visualizationUrl=https%3A%2F%2Fsh.dataspace.copernicus.eu%2Fogc%2Fwms%2F28b654e7-8912-4e59-9e58-85b58d768b3a&datasetId=S2_L2A_CDAS&fromTime=2023-02-07T00%3A00%3A00.000Z&toTime=2023-02-07T23%3A59%3A59.999Z&layerId=1_TRUE_COLOR&demSource3D=%22MAPZEN%22&cloudCoverage=10',\n",
       "   'rel': 'browser',\n",
       "   'title': 'CDSE Data-Browser'},\n",
       "  {'href': 'https://catalogue.dataspace.copernicus.eu/resto/api/collections/Sentinel2/search.json?cloudCover=[0,10]&productType=S2MSI2A&startDate=2022-06-11&completionDate=2022-06-22&maxRecords=10',\n",
       "   'rel': 'opensearch',\n",
       "   'title': 'Opensearch product query'},\n",
       "  {'href': 'https://sentinels.copernicus.eu/web/sentinel/user-guides/sentinel-2-msi/product-types/level-2a',\n",
       "   'rel': 'about',\n",
       "   'title': 'User guide'},\n",
       "  {'href': 'https://services.sentinel-hub.com/ogc/wmts/7d34803f-511c-4caf-9438-6d72f32c8174',\n",
       "   'rel': 'wmts',\n",
       "   'title': 'Web Map Tile Service',\n",
       "   'wmts:dimensions': {'warnings': True},\n",
       "   'wmts:layer': 'TRUE-COLOR'},\n",
       "  {'href': 'https://openeo.dataspace.copernicus.eu/openeo/1.2/collections',\n",
       "   'rel': 'root'},\n",
       "  {'href': 'https://openeo.dataspace.copernicus.eu/openeo/1.2/collections',\n",
       "   'rel': 'parent'},\n",
       "  {'href': 'https://openeo.dataspace.copernicus.eu/openeo/1.2/collections/SENTINEL2_L2A',\n",
       "   'rel': 'self'}],\n",
       " 'mission': 'Sentinel-2',\n",
       " 'name': 'SENTINEL2_L2A',\n",
       " 'providers': [{'name': 'ESA',\n",
       "   'roles': ['producer'],\n",
       "   'url': 'https://esa.int/'},\n",
       "  {'name': 'CDSE',\n",
       "   'roles': ['processor', 'host'],\n",
       "   'url': 'https://dataspace.copernicus.eu/'}],\n",
       " 'stac_extensions': ['https://stac-extensions.github.io/datacube/v2.2.0/schema.json',\n",
       "  'https://stac-extensions.github.io/eo/v1.1.0/schema.json'],\n",
       " 'stac_version': '0.9.0',\n",
       " 'summaries': {'constellation': ['sentinel-2'],\n",
       "  'eo:bands': [{'aliases': ['IMG_DATA_Band_B01_60m_Tile1_Data'],\n",
       "    'center_wavelength': 0.4427,\n",
       "    'common_name': 'coastal',\n",
       "    'full_width_half_max': 0.021,\n",
       "    'gsd': 60,\n",
       "    'name': 'B01',\n",
       "    'offset': 0,\n",
       "    'scale': 0.0001,\n",
       "    'type': 'int16',\n",
       "    'unit': '1'},\n",
       "   {'aliases': ['IMG_DATA_Band_B02_10m_Tile1_Data'],\n",
       "    'center_wavelength': 0.4924,\n",
       "    'common_name': 'blue',\n",
       "    'full_width_half_max': 0.066,\n",
       "    'gsd': 10,\n",
       "    'name': 'B02',\n",
       "    'offset': 0,\n",
       "    'scale': 0.0001,\n",
       "    'type': 'int16',\n",
       "    'unit': '1'},\n",
       "   {'aliases': ['IMG_DATA_Band_B03_10m_Tile1_Data'],\n",
       "    'center_wavelength': 0.5598,\n",
       "    'common_name': 'green',\n",
       "    'full_width_half_max': 0.036,\n",
       "    'gsd': 10,\n",
       "    'name': 'B03',\n",
       "    'offset': 0,\n",
       "    'scale': 0.0001,\n",
       "    'type': 'int16',\n",
       "    'unit': '1'},\n",
       "   {'aliases': ['IMG_DATA_Band_B04_10m_Tile1_Data'],\n",
       "    'center_wavelength': 0.6646,\n",
       "    'common_name': 'red',\n",
       "    'full_width_half_max': 0.031,\n",
       "    'gsd': 10,\n",
       "    'name': 'B04',\n",
       "    'offset': 0,\n",
       "    'scale': 0.0001,\n",
       "    'type': 'int16',\n",
       "    'unit': '1'},\n",
       "   {'aliases': ['IMG_DATA_Band_B05_20m_Tile1_Data'],\n",
       "    'center_wavelength': 0.7041,\n",
       "    'full_width_half_max': 0.015,\n",
       "    'gsd': 20,\n",
       "    'name': 'B05',\n",
       "    'offset': 0,\n",
       "    'scale': 0.0001,\n",
       "    'type': 'int16',\n",
       "    'unit': '1'},\n",
       "   {'aliases': ['IMG_DATA_Band_B06_20m_Tile1_Data'],\n",
       "    'center_wavelength': 0.7405,\n",
       "    'full_width_half_max': 0.015,\n",
       "    'gsd': 20,\n",
       "    'name': 'B06',\n",
       "    'offset': 0,\n",
       "    'scale': 0.0001,\n",
       "    'type': 'int16',\n",
       "    'unit': '1'},\n",
       "   {'aliases': ['IMG_DATA_Band_B07_20m_Tile1_Data'],\n",
       "    'center_wavelength': 0.7828,\n",
       "    'full_width_half_max': 0.02,\n",
       "    'gsd': 20,\n",
       "    'name': 'B07',\n",
       "    'offset': 0,\n",
       "    'scale': 0.0001,\n",
       "    'type': 'int16',\n",
       "    'unit': '1'},\n",
       "   {'aliases': ['IMG_DATA_Band_B08_10m_Tile1_Data'],\n",
       "    'center_wavelength': 0.8328,\n",
       "    'common_name': 'nir',\n",
       "    'full_width_half_max': 0.106,\n",
       "    'gsd': 10,\n",
       "    'name': 'B08',\n",
       "    'offset': 0,\n",
       "    'scale': 0.0001,\n",
       "    'type': 'int16',\n",
       "    'unit': '1'},\n",
       "   {'aliases': ['IMG_DATA_Band_B8A_20m_Tile1_Data'],\n",
       "    'center_wavelength': 0.8647,\n",
       "    'common_name': 'nir08',\n",
       "    'full_width_half_max': 0.021,\n",
       "    'gsd': 20,\n",
       "    'name': 'B8A',\n",
       "    'offset': 0,\n",
       "    'scale': 0.0001,\n",
       "    'type': 'int16',\n",
       "    'unit': '1'},\n",
       "   {'aliases': ['IMG_DATA_Band_B09_60m_Tile1_Data'],\n",
       "    'center_wavelength': 0.9451,\n",
       "    'common_name': 'nir09',\n",
       "    'full_width_half_max': 0.02,\n",
       "    'gsd': 60,\n",
       "    'name': 'B09',\n",
       "    'offset': 0,\n",
       "    'scale': 0.0001,\n",
       "    'type': 'int16',\n",
       "    'unit': '1'},\n",
       "   {'aliases': ['IMG_DATA_Band_B11_20m_Tile1_Data'],\n",
       "    'center_wavelength': 1.6137,\n",
       "    'common_name': 'swir16',\n",
       "    'full_width_half_max': 0.091,\n",
       "    'gsd': 20,\n",
       "    'name': 'B11',\n",
       "    'offset': 0,\n",
       "    'scale': 0.0001,\n",
       "    'type': 'int16',\n",
       "    'unit': '1'},\n",
       "   {'aliases': ['IMG_DATA_Band_B12_20m_Tile1_Data'],\n",
       "    'center_wavelength': 2.2024,\n",
       "    'common_name': 'swir22',\n",
       "    'full_width_half_max': 0.175,\n",
       "    'gsd': 20,\n",
       "    'name': 'B12',\n",
       "    'offset': 0,\n",
       "    'scale': 0.0001,\n",
       "    'type': 'int16',\n",
       "    'unit': '1'},\n",
       "   {'aliases': ['IMG_DATA_Band_WVP_10m_Tile1_Data'], 'name': 'WVP'},\n",
       "   {'aliases': ['IMG_DATA_Band_AOT_20m_Tile1_Data'], 'name': 'AOT'},\n",
       "   {'aliases': ['IMG_DATA_Band_SCL_20m_Tile1_Data'], 'gsd': 20, 'name': 'SCL'},\n",
       "   {'aliases': ['S2_Level-2A_Tile1_Metadata##0', 'SAA'],\n",
       "    'name': 'sunAzimuthAngles',\n",
       "    'unit': 'deg'},\n",
       "   {'aliases': ['S2_Level-2A_Tile1_Metadata##1', 'SZA'],\n",
       "    'name': 'sunZenithAngles',\n",
       "    'unit': 'deg'},\n",
       "   {'aliases': ['S2_Level-2A_Tile1_Metadata##2',\n",
       "     'VAA',\n",
       "     'approximateViewAzimuth'],\n",
       "    'name': 'viewAzimuthMean',\n",
       "    'unit': 'deg'},\n",
       "   {'aliases': ['S2_Level-2A_Tile1_Metadata##3',\n",
       "     'VZA',\n",
       "     'approximateViewZenith'],\n",
       "    'name': 'viewZenithMean',\n",
       "    'unit': 'deg'}],\n",
       "  'eo:cloud_cover': {'maximum': 100, 'minimum': 0},\n",
       "  'gsd': [10],\n",
       "  'instrument': ['msi'],\n",
       "  'platform': ['sentinel-2a', 'sentinel-2b'],\n",
       "  'productIdentifier': {}},\n",
       " 'title': 'Sentinel-2 L2A'}"
      ]
     },
     "execution_count": 9,
     "metadata": {},
     "output_type": "execute_result"
    }
   ],
   "source": [
    "conn.describe_collection(\"SENTINEL2_L2A\")"
   ]
  },
  {
   "cell_type": "markdown",
   "id": "f786a79c-897d-4858-83c0-af9d4c4efede",
   "metadata": {},
   "source": [
    "#### **2. Define the data cube**"
   ]
  },
  {
   "cell_type": "markdown",
   "id": "0d7f7023",
   "metadata": {},
   "source": [
    "Check the bounding box:"
   ]
  },
  {
   "cell_type": "code",
   "execution_count": 10,
   "id": "4adbb11e-fd72-4dfa-a967-e7562a5bb310",
   "metadata": {},
   "outputs": [
    {
     "data": {
      "text/plain": [
       "array([13.1056403, 52.4567457, 13.118754 , 52.4739705])"
      ]
     },
     "execution_count": 10,
     "metadata": {},
     "output_type": "execute_result"
    }
   ],
   "source": [
    "vector.total_bounds"
   ]
  },
  {
   "cell_type": "markdown",
   "id": "3a75ed20",
   "metadata": {},
   "source": [
    "Specify the parameters of data cubes:"
   ]
  },
  {
   "cell_type": "code",
   "execution_count": 11,
   "id": "2a136b78-6eba-42df-a71b-f1b86c4a27ea",
   "metadata": {
    "tags": []
   },
   "outputs": [],
   "source": [
    "from openeo.processes import lte #less than equal function\n",
    "\n",
    "collection      = 'SENTINEL2_L2A'\n",
    "spatial_extent  = {'west':vector.total_bounds[0],\n",
    "                   'east':vector.total_bounds[2],\n",
    "                   'south':vector.total_bounds[1],\n",
    "                   'north':vector.total_bounds[3],\n",
    "                   'crs':4326}\n",
    "bands           = ['B02', 'B05', 'SCL']\n",
    "properties = {\"eo:cloud_cover\": lambda x: lte(x, cloud_percentage)} # to filter out images with high cloud percentage\n",
    "temporal_extent = ['2020-04-01', '2020-10-31'] # April-October for Normalised Difference Trophic Index\n",
    "\n",
    "\n",
    "# TODO - to implement cloud percentage filtering by bounding box, not by timestamp properties! Otherwise, we lose some images"
   ]
  },
  {
   "cell_type": "markdown",
   "id": "450db68c-ffdc-4037-9885-045afec86637",
   "metadata": {
    "tags": []
   },
   "source": [
    "## ***Processing locally***\n",
    "In the next chapters, we will access data from data cubes but process them **locally**.\n",
    "\n",
    "#### 3. Load the data cube\n",
    "Let's start to calculate time for processing. A module below will start to calculate execution time and show the cumulative time spent after each cell in the Notebook until processing finished."
   ]
  },
  {
   "cell_type": "code",
   "execution_count": 12,
   "id": "0a5ab24a",
   "metadata": {},
   "outputs": [
    {
     "name": "stdout",
     "output_type": "stream",
     "text": [
      "Tracking execution time for process: local_process\n"
     ]
    }
   ],
   "source": [
    "import utils.track_time as track_time\n",
    "track_time.register_time(\"local_process\")\n",
    "\n",
    "# To stop calculating time for process:\n",
    "# track_time.stop_time(\"local_process\")"
   ]
  },
  {
   "cell_type": "markdown",
   "id": "4278c1e5-eefe-4636-ab68-16350606edf6",
   "metadata": {},
   "source": [
    "We have defined the parameters of datacube we are interested in. Now we use these definitions to load the data cube. The earlier we apply the filtering parameters of datacube, the faster follow-up processing will be, as slices of datacube needed will be processed only."
   ]
  },
  {
   "cell_type": "code",
   "execution_count": 13,
   "id": "7d89755c-ef86-464f-a5e0-187bd44dfd53",
   "metadata": {
    "tags": []
   },
   "outputs": [
    {
     "name": "stdout",
     "output_type": "stream",
     "text": [
      "[local_process] Total execution time (cumulative): 0.09 seconds\n"
     ]
    }
   ],
   "source": [
    "load_params = {\n",
    "    \"spatial_extent\": spatial_extent,\n",
    "    \"bands\": bands,\n",
    "    \"temporal_extent\": temporal_extent,\n",
    "}\n",
    "if overall_cloud: # if filtering by properties of collection\n",
    "    load_params['properties'] = properties\n",
    "\n",
    "s2 = conn.load_collection(collection, **load_params) # unpack key-value dictionary as a pair of parameter-value\n",
    "# TODO - to implement overall_cloud condition"
   ]
  },
  {
   "cell_type": "markdown",
   "id": "560d8b9e",
   "metadata": {},
   "source": [
    "**Optional:** you can run `s2.metadata` to see if the spatial resolution (GSD) is the same it was when we described the collection. Nothing changed yet!"
   ]
  },
  {
   "cell_type": "code",
   "execution_count": 14,
   "id": "4a2e0cc6-24c2-4304-bd7f-edfb13433241",
   "metadata": {},
   "outputs": [
    {
     "name": "stdout",
     "output_type": "stream",
     "text": [
      "[local_process] Total execution time (cumulative): 0.09 seconds\n"
     ]
    }
   ],
   "source": [
    "# s2.metadata"
   ]
  },
  {
   "cell_type": "markdown",
   "id": "290b2260",
   "metadata": {},
   "source": [
    "Let's download the datacube to the local machine in netcdf and geotiff formats. \n",
    "From the OpenEO documentation it is unclear how processing is executed on GeoTIFF, but from a few tests it seems that GeoTIFF stores the data from the **LAST** timestamp, according to the defined temporal extent.\n",
    "\n",
    "In this case study, we do not need to process GeoTIFF, but this format sometimes is just more suitable for a quick visualisation."
   ]
  },
  {
   "cell_type": "code",
   "execution_count": 15,
   "id": "ea6c11a8-41fb-44e7-9597-06c0aa180a49",
   "metadata": {},
   "outputs": [
    {
     "name": "stdout",
     "output_type": "stream",
     "text": [
      "[local_process] Total execution time (cumulative): 93.42 seconds\n"
     ]
    }
   ],
   "source": [
    "s2.download(full_tif_path, format=\"GTiff\", validate=True)\n",
    "\n",
    "# \\ .filter_temporal(seasonal_extent) \n",
    "# TODO - to try batch jobs instead of downloading directly"
   ]
  },
  {
   "cell_type": "code",
   "execution_count": 16,
   "id": "cc225f47-dc58-443d-945c-9151e9f3dc0a",
   "metadata": {},
   "outputs": [
    {
     "name": "stdout",
     "output_type": "stream",
     "text": [
      "[local_process] Total execution time (cumulative): 158.71 seconds\n"
     ]
    }
   ],
   "source": [
    "s2.download(full_nc_path, format=\"netcdf\", validate=True)"
   ]
  },
  {
   "cell_type": "markdown",
   "id": "c23c6494",
   "metadata": {},
   "source": [
    "Let's check the spatial resolution in the downloaded netcdf (through external script):"
   ]
  },
  {
   "cell_type": "code",
   "execution_count": 17,
   "id": "5711692e",
   "metadata": {},
   "outputs": [
    {
     "name": "stdout",
     "output_type": "stream",
     "text": [
      "Spatial resolution for band B02:\n",
      "X: 10.0\n",
      "Y: -10.0\n",
      "Spatial resolution for band B05:\n",
      "X: 10.0\n",
      "Y: -10.0\n",
      "Spatial resolution for band SCL:\n",
      "X: 10.0\n",
      "Y: -10.0\n",
      "----------------------------------------\n",
      "NetCDF Dataset Info:\n",
      "----------------------------------------\n",
      "Number of timestamps: 85\n",
      "Time range: 2020-04-01T00:00:00.000000000 to 2020-10-30T00:00:00.000000000\n",
      "B02 band shape: (85, 195, 95)\n",
      "Stats:\n",
      "  Nodata value: nan\n",
      "  Mean: 3340.839599609375\n",
      "  Min: -177.0\n",
      "  Max: 18744.0\n",
      "  Standard deviation: 3794.968505859375\n",
      "----------------------------------------\n",
      "B05 band shape: (85, 195, 95)\n",
      "Stats:\n",
      "  Nodata value: nan\n",
      "  Mean: 3485.22998046875\n",
      "  Min: -21.0\n",
      "  Max: 16315.0\n",
      "  Standard deviation: 3617.463134765625\n",
      "----------------------------------------\n",
      "SCL band shape: (85, 195, 95)\n",
      "Stats:\n",
      "  Nodata value: nan\n",
      "  Mean: 7.101914882659912\n",
      "  Min: 2.0\n",
      "  Max: 10.0\n",
      "  Standard deviation: 2.2306621074676514\n",
      "----------------------------------------\n",
      "[('B02', np.float32(-177.0), np.float32(nan)), ('B05', np.float32(-21.0), np.float32(nan)), ('SCL', np.float32(2.0), np.float32(nan))]\n",
      "[local_process] Total execution time (cumulative): 161.60 seconds\n"
     ]
    }
   ],
   "source": [
    "import utils.inspect as inspect\n",
    "inspect.check_res_nc(full_nc_path, ['B02', 'B05', 'SCL'])\n",
    "stats = inspect.check_stats_nc(full_nc_path, ['B02', 'B05', 'SCL'])"
   ]
  },
  {
   "cell_type": "markdown",
   "id": "8c7a4dcd",
   "metadata": {},
   "source": [
    "**The spatial resolution has changed at this step, bands with lower spatial resolution have been downsampled!**\n",
    "\n",
    "TODO - could it be not downsampled? According to [documentation](https://open-eo.github.io/openeo-python-client/api.html#openeo.rest.datacube.DataCube.download), there are arguments `additional` and `job_options`. Might it work for keeping dimensions?"
   ]
  },
  {
   "cell_type": "markdown",
   "id": "31c29ef7-a97a-49b8-8126-a147220a27e8",
   "metadata": {},
   "source": [
    "If SCL band does not have values <= 0 then no data value could be `nan`. Otherwise, we should count no data values to calculate the share of pixels that are going to be masked out."
   ]
  },
  {
   "cell_type": "markdown",
   "id": "8646826b-4ef5-4f95-91e1-7d694fd77038",
   "metadata": {},
   "source": [
    "Sometimes, Sentinel bands can have negative values of reflectance. For the sake of reliability, we should clamp them to 0 as missing/faulty/non-nominal values. For the details, see [ESA step forum](https://forum.step.esa.int/t/info-introduction-of-additional-radiometric-offset-in-pb04-00-products/35431).\n",
    "\n",
    "Let's clamp negative values to 0:"
   ]
  },
  {
   "cell_type": "code",
   "execution_count": 34,
   "id": "f0ccb52f-0656-4ad7-b3e7-a6ecc43a9d87",
   "metadata": {
    "scrolled": true
   },
   "outputs": [
    {
     "name": "stdout",
     "output_type": "stream",
     "text": [
      "Processing band B02:\n",
      "Band B02 has negative values. Remapping negative values to 0...\n",
      "Updated B02 values and saved to NetCDF.\n",
      "----------------------------------------\n",
      "Processing band B05:\n",
      "Band B05 has negative values. Remapping negative values to 0...\n",
      "Updated B05 values and saved to NetCDF.\n",
      "----------------------------------------\n",
      "Processing band SCL:\n",
      "Band SCL has no negative values. No remapping needed.\n",
      "----------------------------------------\n",
      "Remapped NetCDF has been saved to data/temp/full_remap.nc.\n",
      "[local_process] Total execution time (cumulative): 191.28 seconds\n"
     ]
    }
   ],
   "source": [
    "# iterate over netcdf stats\n",
    "ds = xr.open_dataset(full_nc_path)\n",
    "for band_name, band_min, nodata_val in stats:\n",
    "    if band_name in ds:\n",
    "        print(f\"Processing band {band_name}:\")\n",
    "        if band_min < 0: # remap to 0\n",
    "            print(f\"Band {band_name} has negative values. Remapping negative values to 0...\")\n",
    "            band_data = ds[band_name].values\n",
    "            band_data[band_data < 0] = 0\n",
    "            \n",
    "            ds[band_name].values = band_data # update dataset with remapped values\n",
    "            print(f\"Updated {band_name} values and saved to NetCDF.\")\n",
    "        else:\n",
    "            print(f\"Band {band_name} has no negative values. No remapping needed.\")\n",
    "        print(\"-\" * 40)        \n",
    "ds.close()\n",
    "ds.to_netcdf(full_nc_remap_path)\n",
    "print(f\"Remapped NetCDF has been saved to {full_nc_remap_path}.\")\n",
    "# NOTE - it seems like we cannot rewrite original 'full_nc_path' as Notebook stores open file handles"
   ]
  },
  {
   "cell_type": "markdown",
   "id": "236b5f49-0efa-45d0-a5d0-40fba3b8f47d",
   "metadata": {},
   "source": [
    "Now the minimum value in bands (aside from SCL) should be 0:"
   ]
  },
  {
   "cell_type": "code",
   "execution_count": 35,
   "id": "6112d5e2-987a-49ff-aab7-9ca25c7a7b31",
   "metadata": {},
   "outputs": [
    {
     "name": "stdout",
     "output_type": "stream",
     "text": [
      "NetCDF Dataset Info:\n",
      "----------------------------------------\n",
      "Number of timestamps: 85\n",
      "Time range: 2020-04-01T00:00:00.000000000 to 2020-10-30T00:00:00.000000000\n",
      "B02 band shape: (85, 195, 95)\n",
      "Stats:\n",
      "  Nodata value: nan\n",
      "  Mean: 3340.84228515625\n",
      "  Min: 0.0\n",
      "  Max: 18744.0\n",
      "  Standard deviation: 3794.966796875\n",
      "----------------------------------------\n",
      "B05 band shape: (85, 195, 95)\n",
      "Stats:\n",
      "  Nodata value: nan\n",
      "  Mean: 3485.23095703125\n",
      "  Min: 0.0\n",
      "  Max: 16315.0\n",
      "  Standard deviation: 3617.46240234375\n",
      "----------------------------------------\n",
      "SCL band shape: (85, 195, 95)\n",
      "Stats:\n",
      "  Nodata value: nan\n",
      "  Mean: 7.101914882659912\n",
      "  Min: 2.0\n",
      "  Max: 10.0\n",
      "  Standard deviation: 2.2306621074676514\n",
      "----------------------------------------\n",
      "[local_process] Total execution time (cumulative): 191.70 seconds\n"
     ]
    }
   ],
   "source": [
    "stats = inspect.check_stats_nc(full_nc_remap_path, ['B02', 'B05', 'SCL'])"
   ]
  },
  {
   "cell_type": "markdown",
   "id": "45f19baf",
   "metadata": {},
   "source": [
    "Let's inspect the downloaded GeoTiff:"
   ]
  },
  {
   "cell_type": "code",
   "execution_count": null,
   "id": "57f7f01d",
   "metadata": {},
   "outputs": [],
   "source": [
    "import rasterio\n",
    "\n",
    "with rasterio.open(full_tif_path) as tif:\n",
    "    print(\"GeoTIFF Metadata:\")\n",
    "    print(tif.meta)  # Metadata information like crs, driver, number of bands, etc.\n",
    "    print(tif.tags())  # Look for time-related metadata\n",
    "    '''\n",
    "    # Check number of bands\n",
    "    print(f\"Number of bands: {tif.count}\")\n",
    "\n",
    "    # Read the first band and print its shape\n",
    "    band1 = tif.read(1)  # Reading the first band\n",
    "    print(f\"Shape of the first band: {band1.shape}\")\n",
    "\n",
    "    # Get CRS (Coordinate Reference System)\n",
    "    print(f\"CRS: {tif.crs}\")\n",
    "\n",
    "\n",
    "    # Calculate statistics (ignoring NaN values)\n",
    "    band1_mean = np.nanmean(band1)\n",
    "    band1_min = np.nanmin(band1)\n",
    "    band1_max = np.nanmax(band1)\n",
    "    band1_std = np.nanstd(band1)\n",
    "    band1_sum = np.nansum(band1)\n",
    "    band1_count = np.count_nonzero(~np.isnan(band1))  # Count of non-NaN pixels\n",
    "\n",
    "    # Print the statistics\n",
    "    print(f\"Mean: {band1_mean}\")\n",
    "    print(f\"Min: {band1_min}\")\n",
    "    print(f\"Max: {band1_max}\")\n",
    "    print(f\"Standard Deviation: {band1_std}\")\n",
    "    print(f\"Sum (ignoring NaNs): {band1_sum}\")\n",
    "    print(f\"Non-NaN count: {band1_count}\")\n",
    "    '''\n",
    "print(\"-\" * 40)\n",
    "\n",
    "# Open the NetCDF file using xarray\n",
    "'''\n",
    "ds = xr.open_dataset(full_nc_remap_path)\n",
    "\n",
    "# Print basic information about the NetCDF dataset\n",
    "print(\"NetCDF Dataset Info:\")\n",
    "\n",
    "# Print the dimensions and variables of the dataset\n",
    "print(\"Dimensions:\")\n",
    "print(ds.dims)\n",
    "print(\"Variables:\")\n",
    "print(ds.variables)\n",
    "\n",
    "# Check the temporal dimension (if present)\n",
    "if 'time' in ds.dims:\n",
    "    print(f\"Number of time steps: {ds.dims['time']}\")\n",
    "    print(f\"Time range: {ds['time'].values[0]} to {ds['time'].values[-1]}\")\n",
    "\n",
    "# Check a sample variable (for example, the first band)\n",
    "if 'B02' in ds.variables:\n",
    "    print(f\"First band (B02) shape: {ds['B02'].shape}\")\n",
    "\n",
    "# Calculate statistics for the first band (B02), ignoring NaN values\n",
    "if 'B02' in ds.variables:\n",
    "    band_data = ds['B02'].values  # Extract the values as a numpy array\n",
    "\n",
    "    # Calculate basic statistics, ignoring NaN values\n",
    "    band_mean = np.nanmean(band_data)  # Mean, ignoring NaN\n",
    "    band_min = np.nanmin(band_data)  # Min, ignoring NaN\n",
    "    band_max = np.nanmax(band_data)  # Max, ignoring NaN\n",
    "    band_std = np.nanstd(band_data)  # Standard deviation, ignoring NaN\n",
    "    band_sum = np.nansum(band_data)  # Sum, ignoring NaN\n",
    "\n",
    "    print(f\"Statistics for Band B02:\")\n",
    "    print(f\"  Mean: {band_mean}\")\n",
    "    print(f\"  Min: {band_min}\")\n",
    "    print(f\"  Max: {band_max}\")\n",
    "    print(f\"  Standard Deviation: {band_std}\")\n",
    "    print(f\"  Sum: {band_sum}\")\n",
    "'''\n",
    "    "
   ]
  },
  {
   "attachments": {},
   "cell_type": "markdown",
   "id": "5245e8e5",
   "metadata": {},
   "source": [
    "#### 4. Masking complicating pixels"
   ]
  },
  {
   "cell_type": "markdown",
   "id": "a09b71df-9b0c-4dae-91df-1286e886a85a",
   "metadata": {},
   "source": [
    "The following mask concatenates all pixels occupied by [clouds](https://custom-scripts.sentinel-hub.com/custom-scripts/sentinel-2/scene-classification/) in SCL band: \n",
    "- cloud shadows (3)\n",
    "- unclassified (7)\n",
    "- cloud medium probability (8)\n",
    "- cloud high probability (9)\n",
    "- thin cirrus (10)\n",
    "- snow or ice (11)\n",
    "\n",
    "Depending on the index processed, user can choose other combinations of values in SCL band.\n",
    "**NOTE:** The code below is more about backend processing, not local! TODO - rewrite as local masking of full_nc_remap"
   ]
  },
  {
   "cell_type": "code",
   "execution_count": 37,
   "id": "c1bdc91a-e59e-46a3-99f7-8197bad02165",
   "metadata": {},
   "outputs": [
    {
     "data": {
      "text/plain": [
       "\"# .filter_temporal('2020-07-01', '2020-07-07') \\\\ \""
      ]
     },
     "execution_count": 37,
     "metadata": {},
     "output_type": "execute_result"
    },
    {
     "name": "stdout",
     "output_type": "stream",
     "text": [
      "[local_process] Total execution time (cumulative): 355.42 seconds\n"
     ]
    }
   ],
   "source": [
    "scl_band = s2.band(\"SCL\")\n",
    "# TODO - to implement list of bands for the configuration\n",
    "\n",
    "cloud_mask = ( (scl_band == 3) | (scl_band == 7) | (scl_band == 8) | (scl_band == 9) | (scl_band == 10) | (scl_band == 11)) * 1.0\n",
    "'''cloud_mask = scl_band.isin([7,8,9,10,11]) * 1.0 # this doesn't work'''\n",
    "cloud_mask.download(cloud_tif_path, format=\"GTiff\", validate=True)\n",
    "cloud_mask.download(cloud_nc_path, format=\"netcdf\", validate=True)\n",
    "\n",
    "# TODO - to print the share of masked values\n",
    "\n",
    "'''# .filter_temporal('2020-07-01', '2020-07-07') \\ '''"
   ]
  },
  {
   "cell_type": "markdown",
   "id": "e47e55d7",
   "metadata": {},
   "source": [
    "Now, let's mask out the full cube by the mass with clouds:\n",
    "\n",
    "~~TODO: It is still unclear why we are masking out the datacube by the mask from the last timestamp, not by mask with the matching timestamp.~~"
   ]
  },
  {
   "cell_type": "code",
   "execution_count": 38,
   "id": "817c67b4-a3dc-4c2c-8850-877913cb52a6",
   "metadata": {},
   "outputs": [
    {
     "data": {
      "text/plain": [
       "'masked_cloud     .max_time()     .download(masked_tif_path, format=\"GTiff\", validate=True)'"
      ]
     },
     "execution_count": 38,
     "metadata": {},
     "output_type": "execute_result"
    },
    {
     "name": "stdout",
     "output_type": "stream",
     "text": [
      "[local_process] Total execution time (cumulative): 454.48 seconds\n"
     ]
    }
   ],
   "source": [
    "masked_cloud = s2.mask(cloud_mask)\n",
    "\n",
    "masked_cloud \\\n",
    "    .download(masked_cloud_tif_path, format=\"GTiff\", validate=True)\n",
    "\n",
    "# max_time() masks by the maximum value of time series. Otherwise, it will consider the whole datacube\n",
    "# If we want to filter by the maximum timestamp:\n",
    "'''masked_cloud \\\n",
    "    .max_time() \\\n",
    "    .download(masked_tif_path, format=\"GTiff\", validate=True)'''\n",
    "# This won't show the spatial resolution (dimension):!\n",
    "# scl_band = s2.band(\"SCL\")\n",
    "# print(scl_band.metadata)\n",
    "\n"
   ]
  },
  {
   "cell_type": "markdown",
   "id": "cb5083dd",
   "metadata": {},
   "source": [
    "Let's check the spatial resolution of masked raster. It should be same across bands after masking:"
   ]
  },
  {
   "cell_type": "code",
   "execution_count": 39,
   "id": "cfe1f347",
   "metadata": {},
   "outputs": [
    {
     "name": "stdout",
     "output_type": "stream",
     "text": [
      "Band 1 resolution: (10.0, 10.0)\n",
      "Band 2 resolution: (10.0, 10.0)\n",
      "Band 3 resolution: (10.0, 10.0)\n",
      "----------------------------------------\n",
      "[local_process] Total execution time (cumulative): 455.14 seconds\n"
     ]
    }
   ],
   "source": [
    "inspect.check_res_tif(masked_cloud_tif_path)"
   ]
  },
  {
   "cell_type": "markdown",
   "id": "32520c6e",
   "metadata": {},
   "source": [
    "Save to masked netcdf and check the spatial resolution again:"
   ]
  },
  {
   "cell_type": "code",
   "execution_count": 40,
   "id": "1c47ada4",
   "metadata": {},
   "outputs": [
    {
     "name": "stdout",
     "output_type": "stream",
     "text": [
      "[local_process] Total execution time (cumulative): 545.22 seconds\n"
     ]
    }
   ],
   "source": [
    "masked_cloud \\\n",
    "    .download(masked_cloud_nc_path, format=\"netcdf\", validate=True)\n",
    "    # max_time() masks by the maximum value of time series, but we should mask by the corresponding timestamp"
   ]
  },
  {
   "cell_type": "markdown",
   "id": "2b0b014c-2fcb-4d60-9389-05dad9a547b0",
   "metadata": {},
   "source": [
    "TODO - Now, let's filter out timestamps that have too much masked values in the study area:"
   ]
  },
  {
   "cell_type": "code",
   "execution_count": null,
   "id": "8e0b5316-7818-4b1d-b212-18e34b6206f1",
   "metadata": {},
   "outputs": [],
   "source": [
    "..."
   ]
  },
  {
   "cell_type": "markdown",
   "id": "d24950ef-ab67-4c0a-bbb7-423833ab3201",
   "metadata": {},
   "source": [
    "Let's check the stats of output:"
   ]
  },
  {
   "cell_type": "code",
   "execution_count": 41,
   "id": "9533fe84-be18-4dc3-a57e-5103eaf96aba",
   "metadata": {},
   "outputs": [
    {
     "name": "stdout",
     "output_type": "stream",
     "text": [
      "NetCDF Dataset Info:\n",
      "----------------------------------------\n",
      "Number of timestamps: 85\n",
      "Time range: 2020-04-01T00:00:00.000000000 to 2020-10-30T00:00:00.000000000\n",
      "B02 band shape: (85, 195, 95)\n",
      "Stats:\n",
      "  Nodata value: nan\n",
      "  Mean: 413.0081481933594\n",
      "  Min: -177.0\n",
      "  Max: 18744.0\n",
      "  Standard deviation: 275.1376647949219\n",
      "----------------------------------------\n",
      "B05 band shape: (85, 195, 95)\n",
      "Stats:\n",
      "  Nodata value: nan\n",
      "  Mean: 741.85595703125\n",
      "  Min: -21.0\n",
      "  Max: 4758.0\n",
      "  Standard deviation: 494.0340270996094\n",
      "----------------------------------------\n",
      "SCL band shape: (85, 195, 95)\n",
      "Stats:\n",
      "  Nodata value: nan\n",
      "  Mean: 4.741878509521484\n",
      "  Min: 2.0\n",
      "  Max: 6.0\n",
      "  Standard deviation: 0.9086194634437561\n",
      "----------------------------------------\n",
      "[local_process] Total execution time (cumulative): 546.09 seconds\n"
     ]
    }
   ],
   "source": [
    "stats = inspect.check_stats_nc(masked_cloud_nc_path, ['B02', 'B05', 'SCL'])"
   ]
  },
  {
   "cell_type": "markdown",
   "id": "551a447a-f5c9-4428-8610-1b5b85cc566f",
   "metadata": {},
   "source": [
    "#### 5. Masking pixels of non-interest (water)\n",
    "We should also mask out all pixels labeled as non-water after masking the data by clouds and snow:"
   ]
  },
  {
   "cell_type": "code",
   "execution_count": null,
   "id": "2aa37603-d775-4718-aa00-1dd2e5f69332",
   "metadata": {},
   "outputs": [],
   "source": [
    "water_mask = (scl_band != 6) * 1.0 # all non-water pixels\n",
    "water_mask.download(water_tif_path, format=\"GTiff\", validate=True)\n",
    "water_mask.download(water_nc_path, format=\"netcdf\", validate=True)"
   ]
  },
  {
   "cell_type": "markdown",
   "id": "e24d0de1-5a86-4550-a3af-52ab7a0f39ec",
   "metadata": {},
   "source": [
    "Now, let's clip the **datacube masked by cloud** by non-water pixels:"
   ]
  },
  {
   "cell_type": "code",
   "execution_count": null,
   "id": "02fe9678-94fd-44d7-8e22-5c389f838742",
   "metadata": {},
   "outputs": [],
   "source": [
    "masked_cloud_water = masked_cloud.mask(water_mask)\n",
    "\n",
    "masked_cloud_water \\\n",
    "    .download(masked_water_tif_path, format=\"GTiff\", validate=True)\n",
    "\n",
    "# if we want to filter datacube by only last timestamp\n",
    "'''masked_cloud_water \\\n",
    "    .max_time() \\\n",
    "    .download(masked_water_tif_path, format=\"GTiff\", validate=True)\n",
    "    '''"
   ]
  },
  {
   "cell_type": "markdown",
   "id": "7cd9622a-07f6-4932-aaf9-1c62b7058693",
   "metadata": {},
   "source": [
    "And download as a datacube:"
   ]
  },
  {
   "cell_type": "code",
   "execution_count": null,
   "id": "499c5895-3c8f-47b4-9d02-921bc616f512",
   "metadata": {},
   "outputs": [],
   "source": [
    "masked_cloud_water \\\n",
    "    .download(masked_water_nc_path, format=\"netcdf\", validate=True)"
   ]
  },
  {
   "cell_type": "markdown",
   "id": "c92b1c03",
   "metadata": {},
   "source": [
    "Check the spatial resolution again (through external script):"
   ]
  },
  {
   "cell_type": "code",
   "execution_count": null,
   "id": "6669e684",
   "metadata": {},
   "outputs": [],
   "source": [
    "inspect.check_res_nc(masked_cloud_nc_path, ['B02', 'B05', 'SCL'])\n",
    "inspect.check_res_nc(masked_water_nc_path, ['B02', 'B05', 'SCL'])"
   ]
  },
  {
   "cell_type": "markdown",
   "id": "110ef0f6",
   "metadata": {},
   "source": [
    "Let's explore the netcdf output. If everything is correct, you will wind three coordinates (x, y and time), four variables (bands 2, 5, SCL and coordinate reference system), as well as three indices for each dimension. Currently, CRS variable is not inheriting the original CRS of OpenEO collection."
   ]
  },
  {
   "cell_type": "code",
   "execution_count": null,
   "id": "86b6b1b5-9af7-4ee9-bd6d-cceb934effdc",
   "metadata": {},
   "outputs": [],
   "source": [
    "x = xr.open_dataset(full_nc_remap_path)\n",
    "x\n",
    "\n",
    "'''\n",
    "# check no data values\n",
    "for var in x.data_vars:\n",
    "    nodata_val = x[var].rio.nodata\n",
    "    print(nodata_val)\n",
    "'''\n",
    "'''\n",
    "# Initialize counter for NoData values\n",
    "total_nodata = 0\n",
    "\n",
    "# Loop through each variable and count NoData values\n",
    "for var in x.data_vars:\n",
    "    nodata_value = x[var].rio.nodata\n",
    "    if nodata_value is not None:\n",
    "        total_nodata += (x[var] == nodata_value).sum().item()\n",
    "\n",
    "print(f\"Total NoData values in dataset: {total_nodata}\")\n",
    "'''"
   ]
  },
  {
   "cell_type": "markdown",
   "id": "23e8cc0c-6071-4876-b986-5237af684086",
   "metadata": {},
   "source": [
    "We should repoject GeoTIFF outputs to illustrate them:"
   ]
  },
  {
   "cell_type": "code",
   "execution_count": null,
   "id": "98b45b7d-5dc0-4ca4-b16c-915055a445de",
   "metadata": {},
   "outputs": [],
   "source": [
    "# reproject tiff files to illustrate them (external script)\n",
    "from utils.reproject import VectorProc\n",
    "raster_reproj = VectorProc(full_tif_path).reproject_Ras2Leaflet(full_tif_reproj_path)\n",
    "raster_reproj = VectorProc(masked_cloud_tif_path).reproject_Ras2Leaflet(masked_cloud_tif_reproj_path)\n",
    "raster_reproj = VectorProc(masked_water_tif_path).reproject_Ras2Leaflet(masked_water_tif_reproj_path)"
   ]
  },
  {
   "cell_type": "markdown",
   "id": "fbd48d12",
   "metadata": {},
   "source": [
    "Let's visualise intermediate results through GeoTIFF:"
   ]
  },
  {
   "cell_type": "code",
   "execution_count": null,
   "id": "b660a1e0-7c90-4dfd-9d2a-a8c1a0d6b962",
   "metadata": {},
   "outputs": [],
   "source": [
    "# TODO - somehow reprojected layers are not being posted on Leaflet map!\n",
    "sm = leafmap.Map(center=center, zoom=zoom)\n",
    "vector.explore(m=m, style_kwds=dict(fill=True, color='blue', fill_opacity=0.5))\n",
    "vector.convex_hull.explore(m=m, style_kwds=dict(fill=False, color='green'))\n",
    "bounding_box_df.explore(m=m, style_kwds=dict(color=\"black\", fill = False)) # or style_kwds={\"color\": \"black\", \"fillOpacity\": 0}\n",
    "\n",
    "m.add_raster(full_tif_reproj_path, bands=[1,2,3], layer_name = \"colour\") # put band numbers, not their names (like B02,B05 or RGB)\n",
    "m.add_raster(masked_cloud_tif_reproj_path, bands=[1,2,3], layer_name = \"masked_by_clouds\")\n",
    "m.add_raster(masked_water_tif_reproj_path, bands=[1,2,3], layer_name = \"masked_by_cloudsNwater\")\n",
    "m # show\n",
    "\n",
    "# issue met on Windows with conda env: ImportError: localtileserver is not installed. Please install it before proceeding. https://github.com/banesullivan/localtileserver\n",
    "# localtileserver on Windows is problematic, so successfully using Docker - Ubuntu-based image for osgeo plus requirements."
   ]
  },
  {
   "cell_type": "markdown",
   "id": "40207908",
   "metadata": {},
   "source": [
    "Now, let's add the cloud mask as well:"
   ]
  },
  {
   "cell_type": "code",
   "execution_count": null,
   "id": "c4bd65fd",
   "metadata": {},
   "outputs": [],
   "source": [
    "m.add_raster(cloud_tif_path, bands=[1], layer_name = \"cloud\")"
   ]
  },
  {
   "cell_type": "markdown",
   "id": "f93a67e6-6746-4de7-9142-635eee9a1196",
   "metadata": {},
   "source": [
    "#### 6. Calculate NDTrI index\n",
    "According to previous experiments [put link](link.ccomm), the trophic state of water in lakes can be defined through the normalised difference between B2 (red) and B5 (red edge).\n",
    "\n",
    "To calculate it, we should just put a simple math expression: \n",
    "$$ \\text{NDTrI} = \\frac{B05-B02}{B05+B02} $$\n",
    "\n",
    "Now, let's process it locally on user's machine just for the sample GeoTIFF output to see if everything is working fine:"
   ]
  },
  {
   "cell_type": "code",
   "execution_count": null,
   "id": "e492ee91",
   "metadata": {},
   "outputs": [],
   "source": [
    "# Local processing\n",
    "import rasterio\n",
    "\n",
    "# TODO - to include resampling\n",
    "\n",
    "# open local masked output\n",
    "with rasterio.open(masked_cloud_tif_path) as dataset:\n",
    "    # read bands\n",
    "    b02_data = dataset.read(1)  # B2\n",
    "    b05_data = dataset.read(2)  # B5\n",
    "    # raster algebra\n",
    "    ndtri = (b05_data - b02_data) / (b05_data + b02_data)\n",
    "    '''# handle division by zero (where both bands are zero)\n",
    "    ndtri[np.isnan(ndtri)] = 0  # optional - replace NaN with 0'''\n",
    "    # plot array\n",
    "    plt.imshow(ndtri, cmap='viridis')\n",
    "    plt.colorbar()\n",
    "    plt.title(\"Normalised Difference Trophic Index (NDTrI)\")\n",
    "    plt.show()\n",
    "    \n",
    "    # update metadata\n",
    "    meta = dataset.meta\n",
    "    meta.update(dtype=rasterio.float32, count=1)\n",
    "    \n",
    "    # to file\n",
    "    with rasterio.open(ndtri_tif_path, \"w\", **meta) as out_dataset:\n",
    "        out_dataset.write(ndtri, 1)\n",
    "    "
   ]
  },
  {
   "cell_type": "code",
   "execution_count": null,
   "id": "26cd85ae-fddf-42c5-975a-1e911420e063",
   "metadata": {
    "tags": []
   },
   "outputs": [],
   "source": [
    "'''min_level = min(s2.band(\"B01\"), s2.band(\"B02\"), s2.band(\"B03\"))'''\n",
    "\n",
    "# expression to run on the backend\n",
    "ndtri = (s2.band(\"B05\") - s2.band(\"B02\")) / (s2.band(\"B05\") + s2.band(\"B02\"))\n",
    "ndtri # these illustrations of objects are not always visualised"
   ]
  },
  {
   "cell_type": "markdown",
   "id": "c5c5a981",
   "metadata": {},
   "source": [
    "**Local processing**\n",
    "\n",
    "Next step is to clip the NDTrI by the polygon of interest. For the sake of clarity, reprojection process is defined in the [external script](utils/reproject.py):"
   ]
  },
  {
   "cell_type": "code",
   "execution_count": null,
   "id": "da3e58ff",
   "metadata": {},
   "outputs": [],
   "source": [
    "from utils.reproject import VectorProc\n",
    "import rasterio\n",
    "from rasterio.mask import mask\n",
    "\n",
    "vector_proc = VectorProc(ndtri_tif_path)\n",
    "vector_reproj = vector_proc.reproject_vec2ras(vector)\n",
    "\n",
    "with rasterio.open(ndtri_tif_path) as dataset:\n",
    "    # mask\n",
    "    first_feature = vector_reproj.iloc[0:1]\n",
    "    geometries = first_feature.geometry.values\n",
    "    out_image, out_transform = mask(dataset, geometries, crop=True)\n",
    "    out_meta = dataset.meta.copy()    # get metadata for output\n",
    "    # update metadata to reflect the new image size after masking\n",
    "    out_meta.update({\"driver\": \"GTiff\",\n",
    "                     \"count\": 1,\n",
    "                     \"height\": out_image.shape[1],\n",
    "                     \"width\": out_image.shape[2],\n",
    "                     \"transform\": out_transform})\n",
    "\n",
    "with rasterio.open(masked_ndtri_tif_path, \"w\", **out_meta) as out:\n",
    "    out.write(out_image)\n",
    "\n",
    "print(f\"Masked raster saved to {masked_ndtri_tif_path}\")"
   ]
  },
  {
   "cell_type": "markdown",
   "id": "8b2219e0-12c1-487f-b95c-cd96743f866d",
   "metadata": {},
   "source": [
    "Now, it's time to mask the NDTrI by clouds:"
   ]
  },
  {
   "cell_type": "code",
   "execution_count": null,
   "id": "8e188e75-57d6-4140-920d-937bea779934",
   "metadata": {
    "tags": []
   },
   "outputs": [],
   "source": [
    "ndtri_masked = ndtri.mask(cloud_mask) # replacement is null by default\n",
    "ndtri"
   ]
  },
  {
   "cell_type": "markdown",
   "id": "61be5bad-fce6-46b3-85f3-cbfc15d309f0",
   "metadata": {},
   "source": [
    "#### 7. Mask Polygon: From Bounding Box to Shape\n",
    "We have a cloud masked snow map data cube now. In order to keep only pixels within the exact chatchment boundaries we mask to the outline of the catchment. Values outside of the boundaries are set to NA."
   ]
  },
  {
   "cell_type": "code",
   "execution_count": null,
   "id": "c6cc66f6-0f09-46e4-b687-f42703da647f",
   "metadata": {
    "scrolled": true,
    "tags": []
   },
   "outputs": [],
   "source": [
    "vector_border = vector['geometry'].iloc[0]\n",
    "ndtri_masked_cut = ndtri_masked.mask_polygon(vector_border)\n",
    "ndtri_masked_cut"
   ]
  },
  {
   "cell_type": "markdown",
   "id": "ce3b6b14-7f09-456d-9162-8c5f688c67e5",
   "metadata": {},
   "source": [
    "##### **Visualisation**\n",
    "Let's have a first look at a time slice of our NDTrI map. So far we have not computed anything. We have only defined a set of functions that are going to be applied in sequence. This makes up our workflow or processing graph. \n",
    "To reduce the data volume which we are going to download we are only selecting one time step of our data cube.\n",
    "\n",
    "**In order to start the processing we have to tell the cloud platform specifically that we want to execute our workflow. In this case we want to start the processing directly without registering a job on the backend. This solution is good for small amounts of data. For larger processing tasks batch jobs are preferred (we'll do that later).**"
   ]
  },
  {
   "cell_type": "code",
   "execution_count": null,
   "id": "891968e3-ddfe-4dad-bba7-af22f8a5f16e",
   "metadata": {
    "tags": []
   },
   "outputs": [],
   "source": [
    "ndtri_masked_cut_short  = ndtri_masked_cut.filter_temporal(temporal_extent)\n",
    "ndtri_masked_cut_short.download(test_nc_path, format=\"netcdf\", validate=True)\n",
    "ndtri_masked_cut_short.download(test_tif_path, format=\"GTiff\", validate=True)"
   ]
  },
  {
   "cell_type": "markdown",
   "id": "0b22fb2c",
   "metadata": {},
   "source": [
    "Let's inspect the output content in read-binary mode:"
   ]
  },
  {
   "cell_type": "code",
   "execution_count": null,
   "id": "6bd784cf-e98f-4ed9-9424-d83cb7082625",
   "metadata": {},
   "outputs": [],
   "source": [
    "with open(test_nc_path, \"rb\") as f: \n",
    "    print(f.read(100))"
   ]
  },
  {
   "cell_type": "markdown",
   "id": "25a5d46c-4778-4c8a-bdbe-8041c7530f12",
   "metadata": {},
   "source": [
    "Once the processing is done on the cloud and the data is downloaded we can load the file into our working environment and plot it!\n",
    "\n",
    "TODO - to check\n",
    "The area of interest is spread across two S2 tiles. This is visibile in the northern part of the plot because we chose one specific acquisition date where there is not data available for the northern tile.\n",
    "\n",
    "Now, let's open the output xarray and find the its length (number of timestamps available). We can also check the dimensions (or coordinates) of xarray:"
   ]
  },
  {
   "cell_type": "code",
   "execution_count": null,
   "id": "e4af7e9c-cf92-40f2-abe8-e28f520b77b6",
   "metadata": {},
   "outputs": [],
   "source": [
    "x = xr.open_dataarray(test_nc_path,decode_coords=\"all\",engine=\"rasterio\")\n",
    "len(x)\n",
    "print(x.coords)"
   ]
  },
  {
   "cell_type": "markdown",
   "id": "a635c232-b8c1-40cf-a60c-dcb6bb5023bf",
   "metadata": {},
   "source": [
    "Let's visualise on of the datacube slices (timestamps):\n",
    "\n",
    "TODO - to find out how CRS is encoded in xarray metadata as currently not available:"
   ]
  },
  {
   "cell_type": "code",
   "execution_count": null,
   "id": "405e1ee1-febf-4ec6-83d4-5bc644756169",
   "metadata": {
    "tags": []
   },
   "outputs": [],
   "source": [
    "import utils.visual as visual\n",
    "\n",
    "visual.Visual(slice = x[0]).map()\n",
    "\n",
    "\"\"\"\n",
    "fig, ax = plt.subplots(figsize=(8, 6))\n",
    "im = slice.plot.imshow(cmap='viridis', ax=ax)\n",
    "cbar = im.colorbar #add colourbar\n",
    "cbar.set_label(\"Normalised Difference Trophic Index (NDTrI)\") \n",
    "\n",
    "timestamp = slice.coords['t'].values\n",
    "timestamp_str = str(timestamp)\n",
    "\n",
    "# axes\n",
    "ax.set_title(f\"Normalised Difference Trophic Index (NDTrI), t = {timestamp_str}\\n CRS = {crs}\")\n",
    "ax.set_xlabel(\"X coordinate\")\n",
    "ax.set_ylabel(\"Y coordinate\")\n",
    "\"\"\""
   ]
  },
  {
   "cell_type": "markdown",
   "id": "3b9ab428-e185-4e80-81a3-808873641e15",
   "metadata": {},
   "source": [
    "That was just the first timestamp, so let's take another one.\n",
    "\n",
    "**Attention**: Islands are not covered by this datacube, because we have already filtered out non-water pixels.\n",
    "TODO - to reproject output!"
   ]
  },
  {
   "cell_type": "code",
   "execution_count": null,
   "id": "3123364d-ce38-46f7-8ac5-bde5e3aa901c",
   "metadata": {},
   "outputs": [],
   "source": [
    "visual.Visual(slice = x[3]).map()"
   ]
  },
  {
   "cell_type": "markdown",
   "id": "a70d1226-9f5f-424c-b17e-03ff5df5afc8",
   "metadata": {},
   "source": [
    "If we try to visialise the datacube slice with number > array length, we face an error:"
   ]
  },
  {
   "cell_type": "code",
   "execution_count": null,
   "id": "6192b5a0-6a7e-4bb1-a8f2-4bf0518d1b77",
   "metadata": {},
   "outputs": [],
   "source": [
    "visual.Visual(slice = x[1000]).map()"
   ]
  },
  {
   "cell_type": "markdown",
   "id": "5b8d581e-a2c2-4f25-ad14-bf5312508b22",
   "metadata": {},
   "source": [
    "Some pixels are not consistenly being defined as water ones."
   ]
  },
  {
   "cell_type": "code",
   "execution_count": null,
   "id": "72233c83-32f5-4225-a602-194133dc4ad4",
   "metadata": {},
   "outputs": [],
   "source": [
    "visual.Visual(slice = x[6]).map()"
   ]
  },
  {
   "cell_type": "markdown",
   "id": "14e71131-a33f-4012-8071-82d635b6d168",
   "metadata": {},
   "source": [
    "Another example:"
   ]
  },
  {
   "cell_type": "code",
   "execution_count": null,
   "id": "8d8ed198-4f64-4176-bcd4-5311dbd499b9",
   "metadata": {},
   "outputs": [],
   "source": [
    "visual.Visual(slice = x[7]).map()"
   ]
  },
  {
   "cell_type": "markdown",
   "id": "1b148b59-3060-4e95-a180-bfe5c2caf7ee",
   "metadata": {},
   "source": [
    "Sometimes we would like to exclude coastal areas of lake with outlying NDTrI values.\n",
    "Let's try to apply the negative buffer to the borderline of lake if do not want to explore the coastal areas:"
   ]
  },
  {
   "cell_type": "code",
   "execution_count": null,
   "id": "9bbd13e1-7fc6-4066-8e57-7a4555004652",
   "metadata": {},
   "outputs": [],
   "source": [
    "import scipy.ndimage as ndi\n",
    "\n",
    "#mask - all values are features of interest, except from no data\n",
    "mask = ~np.isnan(x) # invert values\n",
    "# compute euclidean distance to the the mask, and apply negative buffer\n",
    "distance = ndi.distance_transform_edt(mask)  # distance to mask (background)\n",
    "if shore_negative_buffer:\n",
    "    # only keep values within the negative buffer\n",
    "    buffered_mask = distance > shore_negative_buffer\n",
    "    # apply the buffered mask to original data (all values outside the buffer are None)\n",
    "    buffered_slice = x.where(buffered_mask)\n",
    "else:\n",
    "    warnings.warn(\"Negative buffer has not been defined...\")\n",
    "\n",
    "# visualise\n",
    "visual.Visual(buffered_slice[6]).map()"
   ]
  },
  {
   "cell_type": "markdown",
   "id": "345a62cf-6a1c-4d46-9675-07211c83675f",
   "metadata": {},
   "source": [
    "Let's visualise on OpenStreetMap:"
   ]
  },
  {
   "cell_type": "code",
   "execution_count": null,
   "id": "217baf5a-9e1e-4d87-a7d2-c43cd016d4f7",
   "metadata": {},
   "outputs": [],
   "source": [
    "raster_reproj = VectorProc(test_tif_path).reproject_Ras2Leaflet(test_tif_reproj_path)\n",
    "\n",
    "# m = leafmap.Map(center=center, zoom=15)\n",
    "m = leafmap.Map(layers_control=True)\n",
    "# lake.convex_hull.explore(m=m)\n",
    "m.add_raster(test_tif_reproj_path, indexes=[0], palette=\"coolwarm\", layer_name=\"ndtri_masked_clipped\")\n",
    "m # show\n",
    "\n",
    "# TODO - layers are not displayed: https://localtileserver.banesullivan.com/installation/remote-jupyter.html\n",
    "# seems like setting client prefix doesn't help"
   ]
  },
  {
   "cell_type": "markdown",
   "id": "9591323b-0bae-4ea7-9f47-7d3c3f2cdf00",
   "metadata": {},
   "source": [
    "**NOTE**: Regarding the rule on removing pixels with the seasonal share of water less than 80% (recognised by Sentinel as non-water at more than 20% of timestamps), we do not need to implement it generally. So, each pixel at each timestamp is defined in a binary mode, either water or non-water."
   ]
  },
  {
   "cell_type": "code",
   "execution_count": null,
   "id": "ebc522b1-9c81-4c54-b8aa-cbf5405f6e47",
   "metadata": {},
   "outputs": [],
   "source": [
    "\n"
   ]
  },
  {
   "cell_type": "markdown",
   "id": "21a276b9-217f-4b78-8472-516506341dac",
   "metadata": {},
   "source": [
    "#### **8. Aggregation**"
   ]
  },
  {
   "cell_type": "code",
   "execution_count": null,
   "id": "fb9aa60c-7886-4b81-916d-b7928e2b8b59",
   "metadata": {},
   "outputs": [],
   "source": []
  },
  {
   "cell_type": "markdown",
   "id": "06866b87",
   "metadata": {},
   "source": [
    "How much time did it take?"
   ]
  },
  {
   "cell_type": "code",
   "execution_count": null,
   "id": "2a6447bc",
   "metadata": {},
   "outputs": [],
   "source": [
    "track_time.get_time(\"local_process\")"
   ]
  },
  {
   "cell_type": "markdown",
   "id": "54c86cbc",
   "metadata": {},
   "source": [
    "## ***Processing on the backend***\n",
    "In this chapter, we will access data on data cube, but run processing mainly on the back-end.\n",
    "As you have seen, we have been executing OpenEO processes and then downloading the temporary outputs on the local drive.\n",
    "Now, what if we could try to define OpenEO processes, but do not download the temporary files and run processing on the OpenEO server?\n",
    "\n",
    "...."
   ]
  },
  {
   "cell_type": "markdown",
   "id": "ff976399-bea0-477f-a014-5cf6a961e674",
   "metadata": {},
   "source": [
    "### Register a batch job for processing\n",
    "\n",
    "TODO - to rewrite\n",
    "We are starting the processing now with a batch job. This registers our job on the backend in our user space and assigns further information to the job, such as an ID, the job status, the process graph and further metadata. First we specifiy the end of our process graph with `save_result()` and specifiy the format (since we aggregated over the spatial dimension we will receive three arrays of data. So JSON is a suitable format). Then we create the batch job and start it."
   ]
  },
  {
   "cell_type": "code",
   "execution_count": null,
   "id": "09d15142-b402-4b85-a98c-e3aa61d793c8",
   "metadata": {
    "tags": []
   },
   "outputs": [],
   "source": [
    "job = cube.create_job(title=\"NDTrI timeseries 2020\")\n",
    "\n",
    "# Define the end of the process graph and the output format\n",
    "n_pixels_json = n_pixels.save_result(format=\"JSON\")\n",
    "# Create a batch job\n",
    "job = n_pixels_json.create_job(title=\"n_pixels_json\")\n",
    "# start the job and wait till it finishes\n",
    "job.start_and_wait()"
   ]
  },
  {
   "cell_type": "markdown",
   "id": "cc1be5d0-c0bd-4bad-8c7f-ee8ca0f50c9b",
   "metadata": {},
   "source": [
    "Now we can check the status of our job. We can download the result once the job has finished."
   ]
  },
  {
   "cell_type": "code",
   "execution_count": null,
   "id": "2b2e726b-1c43-45e8-b0a4-e55a960c543a",
   "metadata": {
    "tags": []
   },
   "outputs": [],
   "source": [
    "job.status()"
   ]
  },
  {
   "cell_type": "code",
   "execution_count": null,
   "id": "4350f435-c8ef-4c15-a461-4745d66677d0",
   "metadata": {
    "tags": []
   },
   "outputs": [],
   "source": [
    "if job.status() == \"finished\":\n",
    "    results = job.get_results()\n",
    "    results.download_files(timeseries_path)"
   ]
  },
  {
   "cell_type": "markdown",
   "id": "7533cc88-0e3b-4e36-b633-16ac2f0a2277",
   "metadata": {
    "tags": []
   },
   "source": [
    "**Quick hint: take a look at the job description: e.g. `job.describe_job()`**"
   ]
  },
  {
   "cell_type": "markdown",
   "id": "aa996a8d-ced1-4641-b8b8-4b5badab028d",
   "metadata": {},
   "source": [
    "### Load the resulting time series\n",
    "Let's load the result. It contains the total number of pixels in the catchment, number of cloud and snow pixels."
   ]
  },
  {
   "cell_type": "code",
   "execution_count": null,
   "id": "74764134-ea52-4837-a635-eb8e65119b12",
   "metadata": {
    "tags": []
   },
   "outputs": [],
   "source": [
    "# load the result\n",
    "with open(timeseries_path,\"r\") as file:\n",
    "    n_pixels_json = json.load(file)"
   ]
  },
  {
   "cell_type": "code",
   "execution_count": null,
   "id": "e022c407-f8a2-4fae-8869-4283cbd1916f",
   "metadata": {
    "tags": []
   },
   "outputs": [],
   "source": [
    "# check the first 5 entries to check the data structure.\n",
    "list(n_pixels_json.items())[:3] # careful unsorted dates due to JSON format"
   ]
  },
  {
   "cell_type": "markdown",
   "id": "b8d2f970-9980-4ca0-b476-869ababf2b7a",
   "metadata": {},
   "source": [
    "**_Quick hint: what is the length of the time series JSON?_**\n",
    "`len(n_pixels_json)`"
   ]
  },
  {
   "cell_type": "markdown",
   "id": "0101fa0a-44ac-4ece-b555-e29f6b4167da",
   "metadata": {},
   "source": [
    "Now we do some data wrangling to get a structured data frame."
   ]
  },
  {
   "cell_type": "code",
   "execution_count": null,
   "id": "1ec6fdfe-329f-4688-887d-9dc8fa6bd492",
   "metadata": {
    "tags": []
   },
   "outputs": [],
   "source": [
    "# Create a Pandas DataFrame to hold the values\n",
    "dates = [k for k in n_pixels_json]\n",
    "n_catchment_vals = [n_pixels_json[k][0][0] for k in n_pixels_json]\n",
    "n_cloud_vals = [n_pixels_json[k][0][1] for k in n_pixels_json]\n",
    "n_snow_vals = [n_pixels_json[k][0][2] for k in n_pixels_json]\n",
    "\n",
    "data = {\n",
    "        \"time\":pd.to_datetime(dates),\n",
    "        \"n_catchment_vals\":n_catchment_vals,\n",
    "        \"n_cloud_vals\":n_cloud_vals,\n",
    "        \"n_snow_vals\":n_snow_vals\n",
    "       }\n",
    "df = pd.DataFrame(data=data).set_index(\"time\")\n",
    "# Sort the values by date\n",
    "df = df.sort_values(axis=0,by=\"time\")\n",
    "df[:3]"
   ]
  },
  {
   "cell_type": "code",
   "execution_count": null,
   "id": "15b4d8c7-e2e4-45e2-a456-d5a75503cace",
   "metadata": {
    "tags": []
   },
   "outputs": [],
   "source": [
    "df.n_snow_vals.sum()"
   ]
  },
  {
   "cell_type": "markdown",
   "id": "1bad0cdc-9ae9-4dfc-a6d7-e7079bcd947a",
   "metadata": {},
   "source": [
    "### Calculate the cloud percentage for filtering time steps\n",
    "Divide the number of cloudy pixels by the number of total pixels = cloud percentage"
   ]
  },
  {
   "cell_type": "code",
   "execution_count": null,
   "id": "ba2372ff-410f-47fb-849e-b8d008baf320",
   "metadata": {
    "tags": []
   },
   "outputs": [],
   "source": [
    "perc_cloud = df[\"n_cloud_vals\"].values / df[\"n_catchment_vals\"].values * 100\n",
    "df[\"perc_cloud\"] = perc_cloud\n",
    "df[:3]"
   ]
  },
  {
   "cell_type": "markdown",
   "id": "25cf5fd6-1820-4d1f-9bfe-2e37b015124a",
   "metadata": {
    "tags": []
   },
   "source": [
    "**Quick hint: The sum of the n_catchment_vals should give an overall idea of the total number of pixels in the datacube for the whole time-series** `df.n_catchment_vals.sum()`"
   ]
  },
  {
   "cell_type": "markdown",
   "id": "cc1c0b71-d210-4fa6-8f75-95def5cc2917",
   "metadata": {
    "tags": []
   },
   "source": [
    "**Quick hint: a filter of the snow values can give an idea of when the maximum snow cover occurred** `df.where(df.n_snow_vals == df.n_snow_vals.max())`"
   ]
  },
  {
   "cell_type": "markdown",
   "id": "0561cf75-b96a-4687-a57d-1d6eb0b22232",
   "metadata": {},
   "source": [
    "**Quick hint: a simplified approach for converting from pixel count to square kilometres is to use this simplified formula::**\n",
    "\n",
    "${{Area (km^2)} = (\\frac{Spatial resolution (meters/pixel)^2}{1,000,000})\\times{\\text{Total pixel count}}}$"
   ]
  },
  {
   "cell_type": "markdown",
   "id": "af1331f9-b440-4f0e-a161-00cc00ffcd25",
   "metadata": {},
   "source": [
    "Plot the timeseries and the cloud threshold of 20%. If the cloud cover is higher the timestamp will be excluded later on.\n",
    "\n",
    "Plot the **cloud percentage** with the threshold."
   ]
  },
  {
   "cell_type": "code",
   "execution_count": null,
   "id": "fdea8b55-0cb5-4985-9913-55ac66a63d94",
   "metadata": {
    "tags": []
   },
   "outputs": [],
   "source": [
    "df.plot(y=\"perc_cloud\",rot=45,kind=\"line\",marker='o')\n",
    "plt.axhline(y = 25, color = \"r\", linestyle = \"-\")\n",
    "plt.show()"
   ]
  },
  {
   "cell_type": "markdown",
   "id": "153772f2-dfdd-44e2-9cc5-5579c5dd3fd1",
   "metadata": {},
   "source": [
    "### Calculate the snow percentage\n",
    "Divide the number of snow pixels by the number of total pixels = snow percentage"
   ]
  },
  {
   "cell_type": "code",
   "execution_count": null,
   "id": "669cba7c-d625-4adc-8d40-e029702a8826",
   "metadata": {
    "tags": []
   },
   "outputs": [],
   "source": [
    "perc_snow = df[\"n_snow_vals\"].values / df[\"n_catchment_vals\"].values * 100\n",
    "df[\"perc_snow\"] = perc_snow\n",
    "df[:3]"
   ]
  },
  {
   "cell_type": "markdown",
   "id": "56db5d2a-22af-4200-9ea2-5d94479d9f72",
   "metadata": {},
   "source": [
    "Plot the **unfiltered snow percentage**"
   ]
  },
  {
   "cell_type": "code",
   "execution_count": null,
   "id": "03e06724-f4c6-4dd0-9707-d94c92b4c74c",
   "metadata": {
    "tags": []
   },
   "outputs": [],
   "source": [
    "df.plot(y=\"perc_snow\",rot=45,kind=\"line\",marker='o')\n",
    "plt.show()"
   ]
  },
  {
   "cell_type": "markdown",
   "id": "c6ca8ab6-a6b6-479f-821d-236dd8cb5df9",
   "metadata": {},
   "source": [
    "### Filter out cloudy time steps\n",
    "Keep only the dates with cloud coverage less than the threshold"
   ]
  },
  {
   "cell_type": "code",
   "execution_count": null,
   "id": "f8c31218-8d75-43b3-9106-bf70f0624544",
   "metadata": {
    "tags": []
   },
   "outputs": [],
   "source": [
    "df_filtered = df.loc[df[\"perc_cloud\"]<25]"
   ]
  },
  {
   "cell_type": "markdown",
   "id": "9e192035-03c3-4b98-bb0c-611128be8284",
   "metadata": {},
   "source": [
    "### Plot and save the cloud free snow percentage time series\n",
    "Plot the **cloud filtered snow percentage**"
   ]
  },
  {
   "cell_type": "code",
   "execution_count": null,
   "id": "b6c0646a-1385-4980-b443-48fbb2062783",
   "metadata": {
    "tags": []
   },
   "outputs": [],
   "source": [
    "df_filtered.plot(y=\"perc_snow\",rot=45,kind=\"line\",marker='o')\n",
    "plt.show()"
   ]
  },
  {
   "cell_type": "markdown",
   "id": "dcff56ef-8fe1-4b63-a2b4-5c37b69572da",
   "metadata": {
    "tags": []
   },
   "source": [
    "Save the **cloud filtered snow percentage**"
   ]
  },
  {
   "cell_type": "code",
   "execution_count": null,
   "id": "ff1025f1-f2ed-4d5f-afbd-c95df37da869",
   "metadata": {
    "tags": []
   },
   "outputs": [],
   "source": [
    "df_filtered.to_csv(\"31_results/filtered_snow_perc.csv\")"
   ]
  },
  {
   "cell_type": "code",
   "execution_count": null,
   "id": "d7d5ea03-4f19-4589-beeb-d62bfc6b2785",
   "metadata": {},
   "outputs": [],
   "source": [
    "pip install cdsapi"
   ]
  },
  {
   "cell_type": "code",
   "execution_count": null,
   "id": "1680fa4b-9084-4ac7-adc7-d81c72aa31bf",
   "metadata": {},
   "outputs": [],
   "source": [
    "import cdsapi\n",
    "\n",
    "dataset = \"cams-europe-air-quality-reanalyses\"\n",
    "request = {\n",
    "    'variable': ['particulate_matter_2.5um'],\n",
    "    'model': ['ensemble'],\n",
    "    'level': ['0'],\n",
    "    'type': ['validated_reanalysis'],\n",
    "    'year': ['2021'],\n",
    "    'month': ['01', '02', '03', '04', '05', '06', '07', '08', '09', '10']\n",
    "}\n",
    "\n",
    "client = cdsapi.Client()\n",
    "client.retrieve(dataset, request).download()\n"
   ]
  },
  {
   "cell_type": "markdown",
   "id": "b0759302",
   "metadata": {},
   "source": [
    "Now, let's just check how much time it will take to download a datacube with the same parameters, but for the larger area:"
   ]
  },
  {
   "cell_type": "code",
   "execution_count": null,
   "id": "5e5ff7d5-a6af-47be-8b99-652047f21148",
   "metadata": {},
   "outputs": [],
   "source": []
  },
  {
   "cell_type": "markdown",
   "id": "a5da0543",
   "metadata": {},
   "source": [
    "And print statictics in graphical form:"
   ]
  },
  {
   "cell_type": "markdown",
   "id": "6fb2f033-32f7-4eea-b05b-d30c18b639f6",
   "metadata": {},
   "source": [
    "## ***Batch processing on the backend***"
   ]
  },
  {
   "cell_type": "code",
   "execution_count": null,
   "id": "9783b9b4-5359-4c91-9b93-de6ec277aa2f",
   "metadata": {},
   "outputs": [],
   "source": []
  }
 ],
 "metadata": {
  "kernelspec": {
   "display_name": "Python 3 (ipykernel)",
   "language": "python",
   "name": "python3"
  },
  "language_info": {
   "codemirror_mode": {
    "name": "ipython",
    "version": 3
   },
   "file_extension": ".py",
   "mimetype": "text/x-python",
   "name": "python",
   "nbconvert_exporter": "python",
   "pygments_lexer": "ipython3",
   "version": "3.12.3"
  }
 },
 "nbformat": 4,
 "nbformat_minor": 5
}
